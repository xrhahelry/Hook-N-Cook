{
 "cells": [
  {
   "cell_type": "code",
   "execution_count": 1,
   "metadata": {},
   "outputs": [],
   "source": [
    "import pandas as pd\n",
    "import seaborn as sns\n",
    "import matplotlib.pyplot as plt"
   ]
  },
  {
   "cell_type": "code",
   "execution_count": 2,
   "metadata": {},
   "outputs": [],
   "source": [
    "laptop = pd.read_csv(\"../laptop.csv\")"
   ]
  },
  {
   "cell_type": "code",
   "execution_count": 3,
   "metadata": {},
   "outputs": [
    {
     "name": "stdout",
     "output_type": "stream",
     "text": [
      "<class 'pandas.core.frame.DataFrame'>\n",
      "RangeIndex: 1513 entries, 0 to 1512\n",
      "Data columns (total 16 columns):\n",
      " #   Column            Non-Null Count  Dtype  \n",
      "---  ------            --------------  -----  \n",
      " 0   id                1513 non-null   object \n",
      " 1   price             1513 non-null   int64  \n",
      " 2   brand             1513 non-null   object \n",
      " 3   model             1513 non-null   object \n",
      " 4   processor         1513 non-null   object \n",
      " 5   ram memory        1513 non-null   int64  \n",
      " 6   display size      1513 non-null   float64\n",
      " 7   storage capacity  1479 non-null   object \n",
      " 8   cpu cores         1145 non-null   object \n",
      " 9   graphics card     0 non-null      float64\n",
      " 10  graphics memory   235 non-null    object \n",
      " 11  touch             1513 non-null   bool   \n",
      " 12  rating            1513 non-null   float64\n",
      " 13  reviews           1513 non-null   int64  \n",
      " 14  name              1513 non-null   object \n",
      " 15  url               1513 non-null   object \n",
      "dtypes: bool(1), float64(3), int64(3), object(9)\n",
      "memory usage: 178.9+ KB\n"
     ]
    }
   ],
   "source": [
    "laptop.info()"
   ]
  },
  {
   "cell_type": "code",
   "execution_count": 4,
   "metadata": {},
   "outputs": [
    {
     "data": {
      "text/html": [
       "<div>\n",
       "<style scoped>\n",
       "    .dataframe tbody tr th:only-of-type {\n",
       "        vertical-align: middle;\n",
       "    }\n",
       "\n",
       "    .dataframe tbody tr th {\n",
       "        vertical-align: top;\n",
       "    }\n",
       "\n",
       "    .dataframe thead th {\n",
       "        text-align: right;\n",
       "    }\n",
       "</style>\n",
       "<table border=\"1\" class=\"dataframe\">\n",
       "  <thead>\n",
       "    <tr style=\"text-align: right;\">\n",
       "      <th></th>\n",
       "      <th>price</th>\n",
       "      <th>ram memory</th>\n",
       "      <th>display size</th>\n",
       "      <th>graphics card</th>\n",
       "      <th>rating</th>\n",
       "      <th>reviews</th>\n",
       "    </tr>\n",
       "  </thead>\n",
       "  <tbody>\n",
       "    <tr>\n",
       "      <th>count</th>\n",
       "      <td>1513.000000</td>\n",
       "      <td>1513.000000</td>\n",
       "      <td>1513.000000</td>\n",
       "      <td>0.0</td>\n",
       "      <td>1513.000000</td>\n",
       "      <td>1513.000000</td>\n",
       "    </tr>\n",
       "    <tr>\n",
       "      <th>mean</th>\n",
       "      <td>122472.332452</td>\n",
       "      <td>10.532716</td>\n",
       "      <td>14.912293</td>\n",
       "      <td>NaN</td>\n",
       "      <td>0.284270</td>\n",
       "      <td>0.226702</td>\n",
       "    </tr>\n",
       "    <tr>\n",
       "      <th>std</th>\n",
       "      <td>71988.845441</td>\n",
       "      <td>5.103598</td>\n",
       "      <td>0.894601</td>\n",
       "      <td>NaN</td>\n",
       "      <td>1.103867</td>\n",
       "      <td>2.217839</td>\n",
       "    </tr>\n",
       "    <tr>\n",
       "      <th>min</th>\n",
       "      <td>25500.000000</td>\n",
       "      <td>4.000000</td>\n",
       "      <td>10.500000</td>\n",
       "      <td>NaN</td>\n",
       "      <td>0.000000</td>\n",
       "      <td>0.000000</td>\n",
       "    </tr>\n",
       "    <tr>\n",
       "      <th>25%</th>\n",
       "      <td>73990.000000</td>\n",
       "      <td>8.000000</td>\n",
       "      <td>14.000000</td>\n",
       "      <td>NaN</td>\n",
       "      <td>0.000000</td>\n",
       "      <td>0.000000</td>\n",
       "    </tr>\n",
       "    <tr>\n",
       "      <th>50%</th>\n",
       "      <td>104444.000000</td>\n",
       "      <td>8.000000</td>\n",
       "      <td>15.600000</td>\n",
       "      <td>NaN</td>\n",
       "      <td>0.000000</td>\n",
       "      <td>0.000000</td>\n",
       "    </tr>\n",
       "    <tr>\n",
       "      <th>75%</th>\n",
       "      <td>149990.000000</td>\n",
       "      <td>16.000000</td>\n",
       "      <td>15.600000</td>\n",
       "      <td>NaN</td>\n",
       "      <td>0.000000</td>\n",
       "      <td>0.000000</td>\n",
       "    </tr>\n",
       "    <tr>\n",
       "      <th>max</th>\n",
       "      <td>555555.000000</td>\n",
       "      <td>32.000000</td>\n",
       "      <td>17.300000</td>\n",
       "      <td>NaN</td>\n",
       "      <td>5.000000</td>\n",
       "      <td>73.000000</td>\n",
       "    </tr>\n",
       "  </tbody>\n",
       "</table>\n",
       "</div>"
      ],
      "text/plain": [
       "               price   ram memory  display size  graphics card       rating  \\\n",
       "count    1513.000000  1513.000000   1513.000000            0.0  1513.000000   \n",
       "mean   122472.332452    10.532716     14.912293            NaN     0.284270   \n",
       "std     71988.845441     5.103598      0.894601            NaN     1.103867   \n",
       "min     25500.000000     4.000000     10.500000            NaN     0.000000   \n",
       "25%     73990.000000     8.000000     14.000000            NaN     0.000000   \n",
       "50%    104444.000000     8.000000     15.600000            NaN     0.000000   \n",
       "75%    149990.000000    16.000000     15.600000            NaN     0.000000   \n",
       "max    555555.000000    32.000000     17.300000            NaN     5.000000   \n",
       "\n",
       "           reviews  \n",
       "count  1513.000000  \n",
       "mean      0.226702  \n",
       "std       2.217839  \n",
       "min       0.000000  \n",
       "25%       0.000000  \n",
       "50%       0.000000  \n",
       "75%       0.000000  \n",
       "max      73.000000  "
      ]
     },
     "execution_count": 4,
     "metadata": {},
     "output_type": "execute_result"
    }
   ],
   "source": [
    "laptop.describe()"
   ]
  },
  {
   "cell_type": "code",
   "execution_count": 5,
   "metadata": {},
   "outputs": [
    {
     "name": "stdout",
     "output_type": "stream",
     "text": [
      "Summary Statistics of 4 GB RAM\n",
      "count      135.000000\n",
      "mean     55860.259259\n",
      "std      14832.523865\n",
      "min      27999.000000\n",
      "25%      45000.000000\n",
      "50%      57000.000000\n",
      "75%      65000.000000\n",
      "max      89900.000000\n",
      "Name: price, dtype: float64\n",
      "Summary Statistics of 8 GB RAM\n",
      "count       893.000000\n",
      "mean      97397.563270\n",
      "std       40312.314296\n",
      "min       25500.000000\n",
      "25%       71999.000000\n",
      "50%       90999.000000\n",
      "75%      115000.000000\n",
      "max      555000.000000\n",
      "Name: price, dtype: float64\n",
      "Summary Statistics of 12 GB RAM\n",
      "count         5.00000\n",
      "mean      93795.80000\n",
      "std       29490.37857\n",
      "min       63990.00000\n",
      "25%       64999.00000\n",
      "50%       95000.00000\n",
      "75%      115000.00000\n",
      "max      129990.00000\n",
      "Name: price, dtype: float64\n",
      "Summary Statistics of 16 GB RAM\n",
      "count       446.000000\n",
      "mean     180777.257848\n",
      "std       72535.245794\n",
      "min       51000.000000\n",
      "25%      129247.500000\n",
      "50%      174999.500000\n",
      "75%      214999.750000\n",
      "max      555555.000000\n",
      "Name: price, dtype: float64\n",
      "Summary Statistics of 24 GB RAM\n",
      "count         4.000000\n",
      "mean     252247.500000\n",
      "std      104457.000842\n",
      "min       99990.000000\n",
      "25%      231247.500000\n",
      "50%      287000.000000\n",
      "75%      308000.000000\n",
      "max      335000.000000\n",
      "Name: price, dtype: float64\n",
      "Summary Statistics of 32 GB RAM\n",
      "count        30.000000\n",
      "mean     289295.133333\n",
      "std      116882.782642\n",
      "min      108990.000000\n",
      "25%      213499.750000\n",
      "50%      286106.000000\n",
      "75%      378592.500000\n",
      "max      510000.000000\n",
      "Name: price, dtype: float64\n"
     ]
    }
   ],
   "source": [
    "ram_prices = laptop.groupby(by='ram memory')['price']\n",
    "# 4, 8, 16\n",
    "group = ram_prices.apply(lambda x: x.reset_index(drop=True), include_groups=False)\n",
    "rams = {}\n",
    "for ram, prices in ram_prices:\n",
    "    rams[ram] = prices.copy()\n",
    "    print(f\"Summary Statistics of {ram} GB RAM\")\n",
    "    print(rams[ram].describe())"
   ]
  },
  {
   "cell_type": "code",
   "execution_count": null,
   "metadata": {},
   "outputs": [],
   "source": []
  },
  {
   "cell_type": "code",
   "execution_count": 6,
   "metadata": {},
   "outputs": [
    {
     "data": {
      "image/png": "[encoded data removed]",
      "text/plain": [
       "<Figure size 800x600 with 1 Axes>"
      ]
     },
     "metadata": {},
     "output_type": "display_data"
    },
    {
     "data": {
      "image/png": "[encoded data removed]",
      "text/plain": [
       "<Figure size 800x600 with 1 Axes>"
      ]
     },
     "metadata": {},
     "output_type": "display_data"
    },
    {
     "data": {
      "image/png": "[encoded data removed]",
      "text/plain": [
       "<Figure size 800x600 with 1 Axes>"
      ]
     },
     "metadata": {},
     "output_type": "display_data"
    }
   ],
   "source": [
    "ram_group = laptop.groupby(by='ram memory')\n",
    "\n",
    "for ram, prices in ram_group:\n",
    "    if ram in [4, 8, 16]:\n",
    "        norm_count = prices['price'].value_counts()\n",
    "        df = norm_count.reset_index()\n",
    "        df.columns = ['price', 'count']\n",
    "        plt.figure(figsize=(8,6))\n",
    "        sns.barplot(data=df, x='price', y='count', hue='count', palette='viridis', dodge=False)\n",
    "        plt.title(f\"Count for of {ram} GB RAM\")\n",
    "        plt.xticks([])\n",
    "        plt.show()"
   ]
  },
  {
   "cell_type": "code",
   "execution_count": null,
   "metadata": {},
   "outputs": [],
   "source": []
  }
 ],
 "metadata": {
  "kernelspec": {
   "display_name": "hnc",
   "language": "python",
   "name": "python3"
  },
  "language_info": {
   "codemirror_mode": {
    "name": "ipython",
    "version": 3
   },
   "file_extension": ".py",
   "mimetype": "text/x-python",
   "name": "python",
   "nbconvert_exporter": "python",
   "pygments_lexer": "ipython3",
   "version": "3.10.11"
  }
 },
 "nbformat": 4,
 "nbformat_minor": 2
}
