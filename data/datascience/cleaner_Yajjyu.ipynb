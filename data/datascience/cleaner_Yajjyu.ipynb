{
 "cells": [
  {
   "cell_type": "code",
   "execution_count": null,
   "metadata": {},
   "outputs": [],
   "source": [
    "import pandas as pd\n",
    "import numpy as np\n",
    "import re"
   ]
  },
  {
   "cell_type": "code",
   "execution_count": 188,
   "metadata": {},
   "outputs": [],
   "source": [
    "laptop = pd.read_csv(\"../laptop.csv\")\n",
    "# detailed_df = pd.read_csv('corecolumns.csv')\n",
    "# df2 = detailed_df.copy()\n",
    "# tp=pd.read_csv('graphicscolumn.csv')\n"
   ]
  },
  {
   "cell_type": "code",
   "execution_count": null,
   "metadata": {},
   "outputs": [],
   "source": [
    "# laptop.loc[laptop['cpu cores'] == 'Quad Core', 'cpu cores'] = '4'\n",
    "# laptop.loc[laptop['cpu cores'] == 'Octa Core', 'cpu cores'] = '8'\n",
    "# laptop.loc[laptop['cpu cores'] == 'Hexa Core', 'cpu cores'] = '6'\n",
    "# laptop.loc[laptop['cpu cores'] == 'Single Core', 'cpu cores'] = '1'\n",
    "# laptop.loc[laptop['cpu cores'] == 'Dual Core', 'cpu cores'] = '2'\n",
    "# laptop.loc[laptop['cpu cores'] == 'Deca Core', 'cpu cores'] = '10'\n",
    "# laptop.loc[laptop['cpu cores'] == 'Dodeca Core', 'cpu cores'] = '12'\n",
    "# laptop.loc[laptop['cpu cores'] == 'Not Specified', 'cpu cores'] = np.nan\n",
    "\n",
    "\n",
    "laptop['cpu cores'].value_counts()\n",
    "# laptop['cpu cores'].isnull().sum()"
   ]
  },
  {
   "cell_type": "code",
   "execution_count": null,
   "metadata": {},
   "outputs": [],
   "source": [
    "laptop['cpu cores'] = laptop['cpu cores'].apply(lambda x: int(float(x)))\n",
    "laptop['cpu cores'].isnull().sum()\n",
    "laptop.to_csv(\"../laptop.csv\", index=False)"
   ]
  },
  {
   "cell_type": "code",
   "execution_count": null,
   "metadata": {},
   "outputs": [],
   "source": [
    "def get_cpu_cores(processor):\n",
    "    if processor == 3.0:\n",
    "        return 4\n",
    "    elif processor == 5.0:\n",
    "        return 6\n",
    "    elif processor == 7:\n",
    "        return 8\n",
    "    elif processor == 9:\n",
    "        return 10\n",
    "    elif processor == 2:\n",
    "        return 2\n",
    "    else:\n",
    "        return None\n",
    "\n",
    "laptop.loc[laptop['cpu cores'].isnull(), 'cpu cores'] = laptop.loc[laptop['cpu cores'].isnull(), 'processor'].apply(get_cpu_cores)\n",
    "\n"
   ]
  },
  {
   "cell_type": "code",
   "execution_count": null,
   "metadata": {},
   "outputs": [],
   "source": [
    "def clean_text(text):\n",
    "    if isinstance(text, str):  # Check if the text is a string\n",
    "        # Define the pattern to match unwanted characters\n",
    "        pattern = r'[\\/,.\\(\\):;\\-]'\n",
    "        # Use re.sub() to replace unwanted characters with an empty string\n",
    "        cleaned_text = re.sub(pattern, '', text)\n",
    "        return cleaned_text\n",
    "    return text  \n",
    "df2['details'] = df2['details'].astype(str)\n",
    "df2['details'] = df2['details'].apply(clean_text)\n"
   ]
  },
  {
   "cell_type": "code",
   "execution_count": null,
   "metadata": {},
   "outputs": [],
   "source": [
    "# # Clean and standardize the 'details' column\n",
    "df2['details'] = df2['details'].str.replace(r'(\\d+)\\s+cores', r'\\1cores', regex=True)\n",
    "df2['details'] = df2['details'].str.replace(r'(\\d+)\\s+Cores', r'\\1Cores', regex=True)\n",
    "\n",
    "# Iterate over the DataFrame rows\n",
    "for index, row in df2.iterrows():\n",
    "    # Check for null or \"Not Specified\" in 'details' column\n",
    "    if pd.isnull(row['details']):\n",
    "        continue\n",
    "\n",
    "    # Use regex to find the number of cores\n",
    "    match = re.search(r'(\\d+)[-]?[cC]ore[sS]', row['details'])\n",
    "    \n",
    "    if match:\n",
    "        cores = int(match.group(1))\n",
    "        df2.loc[index, 'cpu cores'] = cores\n",
    "        print(\"Row:\", index)\n",
    "        print(\"Cores:\", df2.loc[index, 'cpu cores'])\n",
    "        print(\"Detail:\", row['details'])\n",
    "\n",
    "# Display the updated DataFrame\n",
    "print(df2)\n"
   ]
  },
  {
   "cell_type": "code",
   "execution_count": 222,
   "metadata": {},
   "outputs": [
    {
     "data": {
      "text/plain": [
       "graphics card\n",
       "2800.0    237\n",
       "3050.0    131\n",
       "2000.0    108\n",
       "3060.0     69\n",
       "4050.0     49\n",
       "1650.0     44\n",
       "2050.0     37\n",
       "1500.0     35\n",
       "4060.0     34\n",
       "1050.0     33\n",
       "3070.0     20\n",
       "2500.0     11\n",
       "1660.0     11\n",
       "4070.0     10\n",
       "2070.0      8\n",
       "1100.0      6\n",
       "0.0         6\n",
       "Name: count, dtype: int64"
      ]
     },
     "execution_count": 222,
     "metadata": {},
     "output_type": "execute_result"
    }
   ],
   "source": [
    "laptop['graphics card'].value_counts()\n",
    "# laptop['graphics card'].isnull().sum()\n"
   ]
  },
  {
   "cell_type": "code",
   "execution_count": 227,
   "metadata": {},
   "outputs": [],
   "source": [
    "graphics = laptop[['graphics card', 'name']]\n",
    "new = 'graphics.csv'\n",
    "graphics.to_csv(new, index=False)"
   ]
  },
  {
   "cell_type": "code",
   "execution_count": 217,
   "metadata": {},
   "outputs": [
    {
     "name": "stdout",
     "output_type": "stream",
     "text": [
      "Index: 620, Name: Dell Vostro 7500 I7 10th Gen / GTX 1650ti Graphics Card / 16GB RAM / 1TB SSD / 15.6\" FHD Display / 97Whr Battery, Graphics Card: 1650\n",
      "Index: 1116, Name: Acer Nitro 5 2020 I7 10TH GEN / GTX 1650ti / 15.6\" FHD 144Hz / 8GB RAM / 512GB SSD, Graphics Card: 1650\n",
      "Index: 1337, Name: Acer Nitro 5 2020 i7 10TH GEN / GTX 1650ti / 15.6\" FHD 144Hz / 8GB RAM / 512GB SSD, Graphics Card: 1650\n",
      "Index: 1379, Name: Acer Nitro 5 2020 i7 10TH GEN / GTX 1650ti / 15.6\" FHD 144Hz / 8GB RAM / 512GB SSD, Graphics Card: 1650\n"
     ]
    }
   ],
   "source": [
    "laptop['name'] = laptop['name'].astype(str)\n",
    "numbers_to_check = {\n",
    "    '1050': '1050',\n",
    "    'UHD': '1500',\n",
    "    'MX550': '1050',\n",
    "    'MX450': '1050',\n",
    "    '2070': '2070',\n",
    "    '1650ti': '1650',\n",
    "    'iris': '2050',\n",
    "    '3050Ti': '3050',\n",
    "    '3060': '3060',\n",
    "    '4050': '4050',\n",
    "    '4060': '4060',\n",
    "    '4070': '4070',\n",
    "    'Radeon': '2000',\n",
    "    '1660': '1660',\n",
    "    '3070': '3070',\n",
    "    'M1': '2500',\n",
    "    'M2': '2800',\n",
    "}\n",
    "\n",
    "def update_graphics(row):\n",
    "    if pd.isnull(row['graphics card']):\n",
    "        words = row['name'].split(' ')\n",
    "        for word in words:\n",
    "            if word in numbers_to_check:\n",
    "                return numbers_to_check[word]\n",
    "    return row['graphics card']\n",
    "\n",
    "initial_nan_indices = laptop[laptop['graphics card'].isnull()].index\n",
    "\n",
    "laptop['graphics card'] = laptop.apply(update_graphics, axis=1)\n",
    "\n",
    "for index in initial_nan_indices:\n",
    "    if not pd.isnull(laptop.at[index, 'graphics card']):\n",
    "        print(f\"Index: {index}, Name: {laptop.at[index, 'name']}, Graphics Card: {laptop.at[index, 'graphics card']}\")"
   ]
  },
  {
   "cell_type": "code",
   "execution_count": 223,
   "metadata": {},
   "outputs": [],
   "source": [
    "\n",
    "laptop.to_csv(\"../laptop.csv\", index=False)\n",
    "# df2.to_csv('corecolumns.csv', index=False)"
   ]
  },
  {
   "cell_type": "code",
   "execution_count": 221,
   "metadata": {},
   "outputs": [],
   "source": [
    "laptop['graphics card'] = laptop['graphics card'].apply(lambda x: int(x) if pd.notna(x) else np.nan)\n",
    "\n",
    "# tp.loc[tp['graphics card'] == 'nan', 'graphics card'] = np.nan\n",
    "\n",
    "# tp['graphics card'].isnull().sum()\n",
    "# tp.info()"
   ]
  },
  {
   "cell_type": "code",
   "execution_count": null,
   "metadata": {},
   "outputs": [],
   "source": []
  }
 ],
 "metadata": {
  "kernelspec": {
   "display_name": "hnc",
   "language": "python",
   "name": "python3"
  },
  "language_info": {
   "codemirror_mode": {
    "name": "ipython",
    "version": 3
   },
   "file_extension": ".py",
   "mimetype": "text/x-python",
   "name": "python",
   "nbconvert_exporter": "python",
   "pygments_lexer": "ipython3",
   "version": "3.10.11"
  }
 },
 "nbformat": 4,
 "nbformat_minor": 2
}
