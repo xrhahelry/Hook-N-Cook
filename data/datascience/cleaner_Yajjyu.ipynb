{
 "cells": [
  {
   "cell_type": "code",
   "execution_count": 1,
   "metadata": {},
   "outputs": [],
   "source": [
    "import pandas as pd\n",
    "import numpy as np\n",
    "import re"
   ]
  },
  {
   "cell_type": "code",
   "execution_count": 28,
   "metadata": {},
   "outputs": [],
   "source": [
    "laptop = pd.read_csv(\"../laptop.csv\")\n",
    "detailed_df = pd.read_csv('detailed_df.csv')\n",
    "backup = pd.read_csv('../backup.csv')\n",
    "df2 = detailed_df.copy()"
   ]
  },
  {
   "cell_type": "code",
   "execution_count": 30,
   "metadata": {},
   "outputs": [
    {
     "name": "stdout",
     "output_type": "stream",
     "text": [
      "<class 'pandas.core.frame.DataFrame'>\n",
      "RangeIndex: 1540 entries, 0 to 1539\n",
      "Data columns (total 16 columns):\n",
      " #   Column            Non-Null Count  Dtype  \n",
      "---  ------            --------------  -----  \n",
      " 0   Unnamed: 0        1540 non-null   int64  \n",
      " 1   id                1540 non-null   object \n",
      " 2   price             1540 non-null   int64  \n",
      " 3   brand             1540 non-null   object \n",
      " 4   model             1540 non-null   object \n",
      " 5   processor         1540 non-null   object \n",
      " 6   ram memory        1540 non-null   int64  \n",
      " 7   display size      1540 non-null   float64\n",
      " 8   storage capacity  1540 non-null   int64  \n",
      " 9   cpu cores         1215 non-null   object \n",
      " 10  graphics card     0 non-null      float64\n",
      " 11  graphics memory   240 non-null    object \n",
      " 12  rating            1540 non-null   float64\n",
      " 13  reviews           1540 non-null   int64  \n",
      " 14  name              1540 non-null   object \n",
      " 15  url               1540 non-null   object \n",
      "dtypes: float64(3), int64(5), object(8)\n",
      "memory usage: 192.6+ KB\n"
     ]
    }
   ],
   "source": [
    "laptop['storage capacity'] = laptop['storage capacity'].apply(lambda x: int(x))\n",
    "laptop.info()"
   ]
  },
  {
   "cell_type": "code",
   "execution_count": 24,
   "metadata": {},
   "outputs": [
    {
     "data": {
      "text/plain": [
       "storage capacity\n",
       "512     854\n",
       "256     373\n",
       "1024    281\n",
       "128      25\n",
       "2048      5\n",
       "64        2\n",
       "Name: count, dtype: int64"
      ]
     },
     "execution_count": 24,
     "metadata": {},
     "output_type": "execute_result"
    }
   ],
   "source": [
    "# laptop.loc[laptop['cpu cores'] == 'Quad Core', 'cpu cores'] = '4'\n",
    "# laptop.loc[laptop['cpu cores'] == 'Octa Core', 'cpu cores'] = '8'\n",
    "# # laptop.loc[laptop['cpu cores'] == 'Hexa Core', 'cpu cores'] = '6'\n",
    "# # laptop.loc[laptop['cpu cores'] == 'Single Core', 'cpu cores'] = '1'\n",
    "# # # laptop.loc[laptop['cpu cores'] == 'Dual Core', 'cpu cores'] = '2'\n",
    "# laptop.loc[laptop['storage capacity'] == '1TB', 'storage capacity'] = '1024'\n",
    "# laptop.loc[laptop['storage capacity'] == '4', 'storage capacity'] = '256'\n",
    "\n",
    "\n",
    "\n",
    "laptop['storage capacity'].value_counts()\n",
    "# laptop['cpu cores'].isnull().sum()"
   ]
  },
  {
   "cell_type": "code",
   "execution_count": 19,
   "metadata": {},
   "outputs": [
    {
     "data": {
      "text/plain": [
       "325"
      ]
     },
     "execution_count": 19,
     "metadata": {},
     "output_type": "execute_result"
    }
   ],
   "source": [
    "laptop['cpu cores'].isnull().sum()"
   ]
  },
  {
   "cell_type": "code",
   "execution_count": 15,
   "metadata": {},
   "outputs": [],
   "source": [
    "def clean_text(text):\n",
    "    if isinstance(text, str):  # Check if the text is a string\n",
    "        # Define the pattern to match unwanted characters\n",
    "        pattern = r'[\\/,.\\(\\):;\\-]'\n",
    "        # Use re.sub() to replace unwanted characters with an empty string\n",
    "        cleaned_text = re.sub(pattern, '', text)\n",
    "        return cleaned_text\n",
    "    return text  # If the text is not a string, return it as is"
   ]
  },
  {
   "cell_type": "code",
   "execution_count": 32,
   "metadata": {},
   "outputs": [],
   "source": [
    "df2['details'] = df2['details'].astype(str)\n",
    "df2['details'] = df2['details'].apply(clean_text)"
   ]
  },
  {
   "cell_type": "code",
   "execution_count": 46,
   "metadata": {},
   "outputs": [
    {
     "name": "stdout",
     "output_type": "stream",
     "text": [
      "Row: 688\n",
      "Cores: 6\n",
      "Name: HP EliteBook 845 G8 Ryzen 5 Pro 5650U/16GB RAM/ 512GB SSD/14\" FHD IPS/Backlit Keyboard/ Win 11 Pro Genuine (Business Series)\n",
      "Row: 792\n",
      "Cores: 4\n",
      "Name: HP Laptop 15-dy2795wm /i5 1135G7 / 8gb DDR4 Ram /256gb SSD / 15 inch FHD LED Display\n",
      "Row: 975\n",
      "Cores: 2\n",
      "Name: Lenovo IdeaPad Flex 3 11ADA05 2021 AMD Athlon / 4GB RAM / 256GB SSD / 11.6\" FHD 360 Touch display\n",
      "Row: 1008\n",
      "Cores: 2\n",
      "Name: Asus VivoBook X513E 11th Gen Core i3-1115G4 Processor, 4GB RAM, 256GB SSD, 15.6â Full HD (1920x1080) 60Hz Display Windows 11 Genuine Fingerprint,Abbsy Blue\n",
      "Row: 1033\n",
      "Cores: 4\n",
      "Name: Lenovo Slim 7 With i7 10th Gen Processor 14 Inch FHD IPS Display 8GB RAM 256GB ROM\n",
      "Row: 1490\n",
      "Cores: 6\n",
      "Name: Lenovo ThinkBook 13s AMD Ryzen 5 6600U – 8GB DDR5 RAM – 256GB NVMe SSD – 13.3″ FHD Display – Windows 11 Pro – FingerPrint Reader – Backlit Keyboard\n"
     ]
    }
   ],
   "source": [
    "\n",
    "df2['details'] = df2['details'].str.replace('\\n', ' ')\n",
    "df2['details'] = df2['details'].str.replace(r'(\\d+)\\s+cores', r'\\1cores', regex=True)\n",
    "\n",
    "\n",
    "# Iterate over the dataframe rows\n",
    "for index, row in df2.iterrows():\n",
    "    # Check for null or \"Not Specified\" in 'details' column\n",
    "    if pd.isnull(row['details']) or row['details'] == 'Not Specified':\n",
    "        continue\n",
    "\n",
    "    # Split the details into parts\n",
    "    name_parts = row['details'].split(' ')\n",
    "\n",
    "    # Initialize a variable to store the number of cores\n",
    "    cores = None\n",
    "\n",
    "    # Check each part for core counts\n",
    "    for part in name_parts:\n",
    "        if part == '2Cores':\n",
    "            cores = 2\n",
    "            break\n",
    "        elif part == '4Cores':\n",
    "            cores = 4\n",
    "            break\n",
    "        elif part == '6Cores':\n",
    "            cores = 6\n",
    "            break\n",
    "        elif part in ['8-core', '8Cores']:\n",
    "            cores = 8\n",
    "            break\n",
    "        elif part == '10Cores':\n",
    "            cores = 10\n",
    "            break\n",
    "        elif part == '12Cores':\n",
    "            cores = 12\n",
    "            break\n",
    "        elif part == '1Core':\n",
    "            cores = 1\n",
    "            break\n",
    "\n",
    "    # Assign the cores to the dataframe if found\n",
    "    if cores is not None:\n",
    "        df2.loc[index, 'cpu cores'] = cores\n",
    "        print(\"Row:\", index)\n",
    "        print(\"Cores:\", df2.loc[index, 'cpu cores'])\n",
    "        print(\"Name:\", row['name'])\n",
    "\n",
    "\n",
    "# detailed_df = df2.copy()"
   ]
  },
  {
   "cell_type": "code",
   "execution_count": 56,
   "metadata": {},
   "outputs": [
    {
     "data": {
      "text/plain": [
       "cpu cores\n",
       "4                315\n",
       "Not Specified    312\n",
       "8                208\n",
       "10               133\n",
       "2                 95\n",
       "6                 93\n",
       "1                 36\n",
       "12                33\n",
       "14                 1\n",
       "0                  1\n",
       "Name: count, dtype: int64"
      ]
     },
     "execution_count": 56,
     "metadata": {},
     "output_type": "execute_result"
    }
   ],
   "source": [
    "# df2['cpu cores'] = df2['cpu cores'].apply(lambda x: int(x) if pd.notna(x) and x != 'Not Specified' else np.nan if x == 'Not Specified' else x)\n",
    "df2['cpu cores'] = df2['cpu cores'].apply(lambda x: int(x) if pd.notnull(x) and x != 'Not Specified' else x)\n",
    "df2['cpu cores'].value_counts()"
   ]
  },
  {
   "cell_type": "code",
   "execution_count": 55,
   "metadata": {},
   "outputs": [
    {
     "data": {
      "text/plain": [
       "313"
      ]
     },
     "execution_count": 55,
     "metadata": {},
     "output_type": "execute_result"
    }
   ],
   "source": [
    "df2['cpu cores'].isnull().sum()"
   ]
  },
  {
   "cell_type": "code",
   "execution_count": 14,
   "metadata": {},
   "outputs": [],
   "source": [
    "# columns = list(df2.columns)\n",
    "# columns[0], columns[2] = columns[2], columns[0]\n",
    "# df2 = df2[columns]\n",
    "\n",
    "# df2.to_csv('detailed_df.csv', index=False)\n",
    "\n",
    "\n",
    "# laptop['cpu cores'] = backup['cpu cores']\n",
    "\n",
    "\n",
    "# laptop.info()"
   ]
  },
  {
   "cell_type": "code",
   "execution_count": 31,
   "metadata": {},
   "outputs": [],
   "source": [
    "laptop = backup.copy()\n",
    "laptop.to_csv(\"../laptop.csv\", index=False)\n",
    "backup.to_csv('../backup.csv')"
   ]
  },
  {
   "cell_type": "code",
   "execution_count": null,
   "metadata": {},
   "outputs": [],
   "source": []
  }
 ],
 "metadata": {
  "kernelspec": {
   "display_name": "hnc",
   "language": "python",
   "name": "python3"
  },
  "language_info": {
   "codemirror_mode": {
    "name": "ipython",
    "version": 3
   },
   "file_extension": ".py",
   "mimetype": "text/x-python",
   "name": "python",
   "nbconvert_exporter": "python",
   "pygments_lexer": "ipython3",
   "version": "3.10.11"
  }
 },
 "nbformat": 4,
 "nbformat_minor": 2
}
