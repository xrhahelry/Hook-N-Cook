{
 "cells": [
  {
   "cell_type": "code",
   "execution_count": null,
   "metadata": {},
   "outputs": [],
   "source": [
    "import pandas as pd\n",
    "import numpy as np\n",
    "import re"
   ]
  },
  {
   "cell_type": "code",
   "execution_count": null,
   "metadata": {},
   "outputs": [],
   "source": [
    "laptop = pd.read_csv(\"../laptop.csv\")\n",
    "old = pd.read_csv(\"../old_laptop.csv\")\n",
    "# detailed_df = pd.read_csv('corecolumns.csv')\n",
    "# df2 = detailed_df.copy()\n",
    "# tp=pd.read_csv('graphicscolumn.csv')\n"
   ]
  },
  {
   "cell_type": "code",
   "execution_count": null,
   "metadata": {},
   "outputs": [],
   "source": [
    "# laptop.loc[laptop['cpu cores'] == 'Quad Core', 'cpu cores'] = '4'\n",
    "# laptop.loc[laptop['cpu cores'] == 'Octa Core', 'cpu cores'] = '8'\n",
    "# laptop.loc[laptop['cpu cores'] == 'Hexa Core', 'cpu cores'] = '6'\n",
    "# laptop.loc[laptop['cpu cores'] == 'Single Core', 'cpu cores'] = '1'\n",
    "# laptop.loc[laptop['cpu cores'] == 'Dual Core', 'cpu cores'] = '2'\n",
    "# laptop.loc[laptop['cpu cores'] == 'Deca Core', 'cpu cores'] = '10'\n",
    "# laptop.loc[laptop['cpu cores'] == 'Dodeca Core', 'cpu cores'] = '12'\n",
    "# laptop.loc[laptop['cpu cores'] == 'Not Specified', 'cpu cores'] = np.nan\n",
    "\n",
    "\n",
    "laptop['cpu cores'].value_counts()\n",
    "# laptop['cpu cores'].isnull().sum()"
   ]
  },
  {
   "cell_type": "code",
   "execution_count": null,
   "metadata": {},
   "outputs": [],
   "source": [
    "laptop['cpu cores'] = laptop['cpu cores'].apply(lambda x: int(float(x)))\n",
    "laptop['cpu cores'].isnull().sum()\n",
    "laptop.to_csv(\"../laptop.csv\", index=False)"
   ]
  },
  {
   "cell_type": "code",
   "execution_count": null,
   "metadata": {},
   "outputs": [],
   "source": [
    "def get_cpu_cores(processor):\n",
    "    if processor == 3.0:\n",
    "        return 4\n",
    "    elif processor == 5.0:\n",
    "        return 6\n",
    "    elif processor == 7:\n",
    "        return 8\n",
    "    elif processor == 9:\n",
    "        return 10\n",
    "    elif processor == 2:\n",
    "        return 2\n",
    "    else:\n",
    "        return None\n",
    "\n",
    "laptop.loc[laptop['cpu cores'].isnull(), 'cpu cores'] = laptop.loc[laptop['cpu cores'].isnull(), 'processor'].apply(get_cpu_cores)\n",
    "\n"
   ]
  },
  {
   "cell_type": "code",
   "execution_count": null,
   "metadata": {},
   "outputs": [],
   "source": [
    "def clean_text(text):\n",
    "    if isinstance(text, str):  # Check if the text is a string\n",
    "        # Define the pattern to match unwanted characters\n",
    "        pattern = r'[\\/,.\\(\\):;\\-]'\n",
    "        # Use re.sub() to replace unwanted characters with an empty string\n",
    "        cleaned_text = re.sub(pattern, '', text)\n",
    "        return cleaned_text\n",
    "    return text  \n",
    "df2['details'] = df2['details'].astype(str)\n",
    "df2['details'] = df2['details'].apply(clean_text)\n"
   ]
  },
  {
   "cell_type": "code",
   "execution_count": null,
   "metadata": {},
   "outputs": [],
   "source": [
    "# # Clean and standardize the 'details' column\n",
    "df2['details'] = df2['details'].str.replace(r'(\\d+)\\s+cores', r'\\1cores', regex=True)\n",
    "df2['details'] = df2['details'].str.replace(r'(\\d+)\\s+Cores', r'\\1Cores', regex=True)\n",
    "\n",
    "# Iterate over the DataFrame rows\n",
    "for index, row in df2.iterrows():\n",
    "    # Check for null or \"Not Specified\" in 'details' column\n",
    "    if pd.isnull(row['details']):\n",
    "        continue\n",
    "\n",
    "    # Use regex to find the number of cores\n",
    "    match = re.search(r'(\\d+)[-]?[cC]ore[sS]', row['details'])\n",
    "    \n",
    "    if match:\n",
    "        cores = int(match.group(1))\n",
    "        df2.loc[index, 'cpu cores'] = cores\n",
    "        print(\"Row:\", index)\n",
    "        print(\"Cores:\", df2.loc[index, 'cpu cores'])\n",
    "        print(\"Detail:\", row['details'])\n",
    "\n",
    "# Display the updated DataFrame\n",
    "print(df2)\n"
   ]
  },
  {
   "cell_type": "code",
   "execution_count": null,
   "metadata": {},
   "outputs": [],
   "source": [
    "tp = pd.read_csv('graphicscolumn.csv')\n",
    "laptop['graphics card'] = tp['graphics card']\n",
    "# merged_df = tp.merge(df2[['name', 'details', 'url']], on=['name', 'url'], how='left')\n",
    "# tp['graphics card'].value_counts()\n",
    "laptop['graphics card'].isnull().sum()"
   ]
  },
  {
   "cell_type": "code",
   "execution_count": null,
   "metadata": {},
   "outputs": [],
   "source": [
    "tp['name'] = tp['name'].astype(str)\n",
    "numbers_to_check = {\n",
    "    '1050': '1050',\n",
    "    'MX550': '1050',\n",
    "    'MX350': '1050',\n",
    "    '2070': '2070',\n",
    "    '1650': '1650',\n",
    "    'iris': '2050',\n",
    "    '3050Ti': '3050',\n",
    "    '3060': '3060',\n",
    "    '4050': '4050',\n",
    "    '4060': '4060',\n",
    "    '4070': '4070',\n",
    "    'Radeon': '2000',\n",
    "    'FHD': '1500',\n",
    "    '1660': '1660',\n",
    "    '3070': '3070',\n",
    "    'M1': '2500',\n",
    "    'M2': '2800',\n",
    "}\n",
    "\n",
    "def update_graphics(row):\n",
    "    if pd.isnull(row['graphics card']):\n",
    "        words = row['name'].split(' ')\n",
    "        for word in words:\n",
    "            if word in numbers_to_check:\n",
    "                return numbers_to_check[word]\n",
    "    return row['graphics card']\n",
    "\n",
    "initial_nan_indices = tp[tp['graphics card'].isnull()].index\n",
    "\n",
    "tp['graphics card'] = tp.apply(update_graphics, axis=1)\n",
    "\n",
    "for index in initial_nan_indices:\n",
    "    if not pd.isnull(tp.at[index, 'graphics card']):\n",
    "        print(f\"Index: {index}, Name: {tp.at[index, 'name']}, Graphics Card: {tp.at[index, 'graphics card']}\")"
   ]
  },
  {
   "cell_type": "code",
   "execution_count": null,
   "metadata": {},
   "outputs": [],
   "source": [
    "\n",
    "laptop.to_csv(\"../laptop.csv\", index=False)\n",
    "df2.to_csv('corecolumns.csv', index=False)\n",
    "tp.to_csv('graphicscolumn.csv', index=False)"
   ]
  },
  {
   "cell_type": "code",
   "execution_count": null,
   "metadata": {},
   "outputs": [],
   "source": [
    "tp['graphics card'] = tp['graphics card'].apply(lambda x: int(x) if pd.notna(x) else np.nan)\n",
    "\n",
    "# tp.loc[tp['graphics card'] == 'nan', 'graphics card'] = np.nan\n",
    "tp['graphics card'].value_counts()\n",
    "# tp['graphics card'].isnull().sum()\n",
    "# tp.info()"
   ]
  },
  {
   "cell_type": "code",
   "execution_count": null,
   "metadata": {},
   "outputs": [],
   "source": [
    "# columns = list(df2.columns)\n",
    "# columns[0], columns[2] = columns[2], columns[0]\n",
    "# df2 = df2[columns]\n",
    "\n",
    "# df2.to_csv('detailed_df.csv', index=False)\n",
    "\n",
    "laptop['graphics card'] = tp['graphics card']\n",
    "\n",
    "\n",
    "# laptop.info()"
   ]
  },
  {
   "cell_type": "code",
   "execution_count": null,
   "metadata": {},
   "outputs": [],
   "source": []
  }
 ],
 "metadata": {
  "kernelspec": {
   "display_name": "hnc",
   "language": "python",
   "name": "python3"
  },
  "language_info": {
   "codemirror_mode": {
    "name": "ipython",
    "version": 3
   },
   "file_extension": ".py",
   "mimetype": "text/x-python",
   "name": "python",
   "nbconvert_exporter": "python",
   "pygments_lexer": "ipython3",
   "version": "3.10.11"
  }
 },
 "nbformat": 4,
 "nbformat_minor": 2
}
