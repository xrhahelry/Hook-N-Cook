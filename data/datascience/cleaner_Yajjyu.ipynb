{
 "cells": [
  {
   "cell_type": "code",
   "execution_count": 1,
   "metadata": {},
   "outputs": [],
   "source": [
    "import pandas as pd\n",
    "import numpy as np"
   ]
  },
  {
   "cell_type": "code",
   "execution_count": 13,
   "metadata": {},
   "outputs": [],
   "source": [
    "laptop = pd.read_csv(\"../laptop.csv\")\n",
    "updated = pd.read_csv('../updated_laptop.csv')"
   ]
  },
  {
   "cell_type": "code",
   "execution_count": 3,
   "metadata": {},
   "outputs": [
    {
     "data": {
      "text/plain": [
       "id                     0\n",
       "price                  0\n",
       "brand                  0\n",
       "model                  0\n",
       "processor              0\n",
       "ram memory             0\n",
       "display size           0\n",
       "storage capacity      34\n",
       "cpu cores            368\n",
       "graphics card       1513\n",
       "graphics memory     1278\n",
       "touch                  0\n",
       "rating                 0\n",
       "reviews                0\n",
       "name                   0\n",
       "url                    0\n",
       "dtype: int64"
      ]
     },
     "execution_count": 3,
     "metadata": {},
     "output_type": "execute_result"
    }
   ],
   "source": [
    "laptop.isnull().sum()"
   ]
  },
  {
   "cell_type": "code",
   "execution_count": 4,
   "metadata": {},
   "outputs": [],
   "source": [
    "# laptop.loc[laptop['touch'] == 'No', 'touch'] = False\n",
    "# laptop.loc[laptop['touch'] == 'Yes', 'touch'] = True \n",
    "# laptop.loc[laptop['touch'].isna(), 'touch'] = False \n",
    "# laptop['touch'] = laptop['touch'].astype(bool)\n",
    "# laptop['price'] = laptop['price'].apply(lambda x: int(x))\n",
    "# laptop['name'] = laptop['name'].apply(lambda x: str(x))\n",
    "# laptop['brand'] = laptop['brand'].apply(lambda x: str(x))\n",
    "# laptop.loc[laptop['ram memory'] == '1', 'ram memory'] = '16'\n",
    "# laptop.loc[laptop['ram memory'] == '3', 'ram memory'] = '4'\n",
    "# laptop.loc[laptop['ram memory'] == 'Not Specified', 'ram memory'] = '8'\n",
    "# laptop['ram memory'] = laptop['ram memory'].fillna('8')\n",
    "# laptop['ram memory'] = laptop['ram memory'].apply(lambda x: int(x))\n",
    "# laptop.loc[laptop['display size'] == 'Not Specified', 'display size'] = '0'"
   ]
  },
  {
   "cell_type": "code",
   "execution_count": 5,
   "metadata": {},
   "outputs": [
    {
     "name": "stdout",
     "output_type": "stream",
     "text": [
      "<class 'pandas.core.frame.DataFrame'>\n",
      "RangeIndex: 1513 entries, 0 to 1512\n",
      "Data columns (total 16 columns):\n",
      " #   Column            Non-Null Count  Dtype  \n",
      "---  ------            --------------  -----  \n",
      " 0   id                1513 non-null   object \n",
      " 1   price             1513 non-null   int64  \n",
      " 2   brand             1513 non-null   object \n",
      " 3   model             1513 non-null   object \n",
      " 4   processor         1513 non-null   object \n",
      " 5   ram memory        1513 non-null   int64  \n",
      " 6   display size      1513 non-null   float64\n",
      " 7   storage capacity  1479 non-null   object \n",
      " 8   cpu cores         1145 non-null   object \n",
      " 9   graphics card     0 non-null      float64\n",
      " 10  graphics memory   235 non-null    object \n",
      " 11  touch             1513 non-null   bool   \n",
      " 12  rating            1513 non-null   float64\n",
      " 13  reviews           1513 non-null   int64  \n",
      " 14  name              1513 non-null   object \n",
      " 15  url               1513 non-null   object \n",
      "dtypes: bool(1), float64(3), int64(3), object(9)\n",
      "memory usage: 178.9+ KB\n"
     ]
    }
   ],
   "source": [
    "laptop.info()"
   ]
  },
  {
   "cell_type": "code",
   "execution_count": 21,
   "metadata": {},
   "outputs": [
    {
     "data": {
      "text/plain": [
       "processor\n",
       "Intel Core i5        478\n",
       "Intel Core i7        311\n",
       "Intel Core i3        117\n",
       "AMD                  113\n",
       "Ryzen 7               86\n",
       "Ryzen 5               84\n",
       "Intel                 66\n",
       "Not Specified         46\n",
       "Intel Celeron         38\n",
       "Ryzen 7 Octa Core     21\n",
       "Intel® Core™ i5       20\n",
       "Ryzen 9 Octa Core     17\n",
       "Intel Core i9         16\n",
       "Ryzen 3 Quad Core     14\n",
       "Intel Core-i5         12\n",
       "Ryzen 5 Hexa Core     10\n",
       "Apple M2               9\n",
       "Ryzen 5 Quad Core      7\n",
       "Core i7                6\n",
       "Core i3                5\n",
       "Celeron                5\n",
       "Apple M1 Pro           5\n",
       "Core i9                4\n",
       "Core i5                3\n",
       "Quad Core              3\n",
       "M1                     3\n",
       "Intel Core i 5         2\n",
       "Ryzen 7 Hexa Core      2\n",
       "AMD A4                 2\n",
       "Deca-core              2\n",
       "Celeron Dual core      2\n",
       "Dual Core              1\n",
       "Ryzen 7 Quad Core      1\n",
       "Octa Core              1\n",
       "Hexa Core i5           1\n",
       "Name: count, dtype: int64"
      ]
     },
     "execution_count": 21,
     "metadata": {},
     "output_type": "execute_result"
    }
   ],
   "source": [
    "laptop['processor'].value_counts()\n"
   ]
  },
  {
   "cell_type": "code",
   "execution_count": 7,
   "metadata": {},
   "outputs": [
    {
     "name": "stdout",
     "output_type": "stream",
     "text": [
      "Row: 1512\n",
      "Storage: 256\n",
      "Name: HP EliteBook 640 G9 i5 16GB RAM/256GB SSD Professional Laptop\n"
     ]
    }
   ],
   "source": [
    "# df2 = updated.copy()\n",
    "  \n",
    "# for index, row in df2.iterrows():\n",
    "#     if not pd.isnull(row['storage capacity']):\n",
    "#         continue\n",
    "#     name_parts = row['name'].split(' ')\n",
    "\n",
    "#     for part in name_parts:\n",
    "#         if part == '128GB':\n",
    "#             df2.loc[index, 'storage capacity'] = 128\n",
    "#             break\n",
    "#         elif part == '256GB':\n",
    "#             df2.loc[index, 'storage capacity'] = 256\n",
    "#             break\n",
    "#         elif part == '512GB':\n",
    "#             df2.loc[index, 'storage capacity'] = 512\n",
    "#             break\n",
    "#         elif part == '1TB':\n",
    "#             df2.loc[index, 'storage capacity'] = 1\n",
    "#             break\n",
    "\n",
    "\n",
    "# print(\"Row:\", index)\n",
    "# print(\"Storage:\", row['storage capacity'])\n",
    "# print(\"Name:\", row['name'])\n",
    "\n"
   ]
  },
  {
   "cell_type": "code",
   "execution_count": 18,
   "metadata": {},
   "outputs": [
    {
     "data": {
      "text/plain": [
       "370"
      ]
     },
     "execution_count": 18,
     "metadata": {},
     "output_type": "execute_result"
    }
   ],
   "source": [
    "updated['cpu cores'].isnull().sum()"
   ]
  },
  {
   "cell_type": "code",
   "execution_count": 20,
   "metadata": {},
   "outputs": [
    {
     "data": {
      "text/plain": [
       "storage capacity\n",
       "512              817\n",
       "256              356\n",
       "1024             263\n",
       "128               24\n",
       "Not Specified     12\n",
       "2048               5\n",
       "64                 2\n",
       "8                  1\n",
       "1.5TB              1\n",
       "Name: count, dtype: int64"
      ]
     },
     "execution_count": 20,
     "metadata": {},
     "output_type": "execute_result"
    }
   ],
   "source": [
    "updated['storage capacity'].value_counts()"
   ]
  },
  {
   "cell_type": "code",
   "execution_count": 8,
   "metadata": {},
   "outputs": [],
   "source": [
    "# temp = laptop[['display size', 'name', 'url']]\n",
    "# temp.to_csv('temp.csv', index=False)"
   ]
  },
  {
   "cell_type": "code",
   "execution_count": 9,
   "metadata": {},
   "outputs": [],
   "source": [
    "# tempp = pd.read_csv(\"temp.csv\")\n",
    "# tempp['display size'].value_counts()\n",
    "# laptop['display size'] = tempp['display size']\n",
    "# laptop.info()"
   ]
  },
  {
   "cell_type": "code",
   "execution_count": 10,
   "metadata": {},
   "outputs": [],
   "source": [
    "# laptop.to_csv(\"../laptop.csv\", index=False)"
   ]
  },
  {
   "cell_type": "code",
   "execution_count": null,
   "metadata": {},
   "outputs": [],
   "source": []
  }
 ],
 "metadata": {
  "kernelspec": {
   "display_name": "hnc",
   "language": "python",
   "name": "python3"
  },
  "language_info": {
   "codemirror_mode": {
    "name": "ipython",
    "version": 3
   },
   "file_extension": ".py",
   "mimetype": "text/x-python",
   "name": "python",
   "nbconvert_exporter": "python",
   "pygments_lexer": "ipython3",
   "version": "3.10.11"
  }
 },
 "nbformat": 4,
 "nbformat_minor": 2
}
