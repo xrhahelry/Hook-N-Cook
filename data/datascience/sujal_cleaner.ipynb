{
 "cells": [
  {
   "cell_type": "code",
   "execution_count": 11,
   "metadata": {},
   "outputs": [],
   "source": [
    "import pandas as pd"
   ]
  },
  {
   "cell_type": "code",
   "execution_count": 12,
   "metadata": {},
   "outputs": [],
   "source": [
    "laptop = pd.read_csv(\"../laptop.csv\")"
   ]
  },
  {
   "cell_type": "code",
   "execution_count": null,
   "metadata": {},
   "outputs": [],
   "source": [
    "laptop['price'] = laptop['price'].apply(lambda x: int(x))\n",
    "laptop['name'] = laptop['name'].apply(lambda x: str(x))\n",
    "laptop['brand'] = laptop['brand'].apply(lambda x: str(x))\n",
    "laptop.loc[laptop['ram memory'] == '1', 'ram memory'] = '16'\n",
    "laptop.loc[laptop['ram memory'] == '3', 'ram memory'] = '4'\n",
    "laptop.loc[laptop['ram memory'] == 'Not Specified', 'ram memory'] = '8'\n",
    "laptop.loc[laptop['ram memory'].isna(), 'ram memory'] = '8' \n",
    "laptop['ram memory'] = laptop['ram memory'].apply(lambda x: int(x))\n",
    "laptop['display size'] = laptop['display size'].apply(lambda x: float(x))"
   ]
  },
  {
   "cell_type": "code",
   "execution_count": null,
   "metadata": {},
   "outputs": [],
   "source": [
    "laptop.describe()"
   ]
  },
  {
   "cell_type": "code",
   "execution_count": null,
   "metadata": {},
   "outputs": [],
   "source": [
    "# laptop['processor'].value_counts()"
   ]
  },
  {
   "cell_type": "code",
   "execution_count": null,
   "metadata": {},
   "outputs": [],
   "source": [
    "# temp = laptop[['display size', 'name', 'url']]\n",
    "# temp.to_csv('temp.csv', index=False)"
   ]
  },
  {
   "cell_type": "code",
   "execution_count": null,
   "metadata": {},
   "outputs": [],
   "source": [
    "# tempp = pd.read_csv(\"temp.csv\")\n",
    "# tempp['display size'].value_counts()\n",
    "# laptop['display size'] = tempp['display size']\n",
    "# laptop.info()"
   ]
  },
  {
   "cell_type": "code",
   "execution_count": null,
   "metadata": {},
   "outputs": [],
   "source": [
    "# laptop.to_csv(\"../laptop.csv\", index=False)"
   ]
  },
  {
   "cell_type": "code",
   "execution_count": null,
   "metadata": {},
   "outputs": [],
   "source": []
  }
 ],
 "metadata": {
  "kernelspec": {
   "display_name": "hnc",
   "language": "python",
   "name": "python3"
  },
  "language_info": {
   "codemirror_mode": {
    "name": "ipython",
    "version": 3
   },
   "file_extension": ".py",
   "mimetype": "text/x-python",
   "name": "python",
   "nbconvert_exporter": "python",
   "pygments_lexer": "ipython3",
   "version": "3.12.2"
  }
 },
 "nbformat": 4,
 "nbformat_minor": 2
}
