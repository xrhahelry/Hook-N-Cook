{
 "cells": [
  {
   "cell_type": "code",
   "execution_count": 1,
   "metadata": {},
   "outputs": [],
   "source": [
    "import pandas as pd"
   ]
  },
  {
   "cell_type": "code",
   "execution_count": 2,
   "metadata": {},
   "outputs": [],
   "source": [
    "laptop = pd.read_csv(\"../laptop.csv\")"
   ]
  },
  {
   "cell_type": "code",
   "execution_count": 3,
   "metadata": {},
   "outputs": [
    {
     "name": "stdout",
     "output_type": "stream",
     "text": [
      "<class 'pandas.core.frame.DataFrame'>\n",
      "RangeIndex: 1540 entries, 0 to 1539\n",
      "Data columns (total 15 columns):\n",
      " #   Column            Non-Null Count  Dtype  \n",
      "---  ------            --------------  -----  \n",
      " 0   id                1540 non-null   object \n",
      " 1   price             1540 non-null   int64  \n",
      " 2   brand             1540 non-null   object \n",
      " 3   model             1540 non-null   object \n",
      " 4   processor         1540 non-null   float64\n",
      " 5   ram memory        1540 non-null   int64  \n",
      " 6   display size      1540 non-null   float64\n",
      " 7   storage capacity  1512 non-null   object \n",
      " 8   cpu cores         1156 non-null   object \n",
      " 9   graphics card     0 non-null      float64\n",
      " 10  graphics memory   240 non-null    object \n",
      " 11  rating            1540 non-null   float64\n",
      " 12  reviews           1540 non-null   int64  \n",
      " 13  name              1540 non-null   object \n",
      " 14  url               1540 non-null   object \n",
      "dtypes: float64(4), int64(3), object(8)\n",
      "memory usage: 180.6+ KB\n"
     ]
    }
   ],
   "source": [
    "laptop.info()"
   ]
  },
  {
   "cell_type": "code",
   "execution_count": null,
   "metadata": {},
   "outputs": [],
   "source": [
    "def clean_processor(processor):\n",
    "    if '7' in processor:\n",
    "        return '7'\n",
    "    elif '5' in processor:\n",
    "        return '5'\n",
    "    elif '3' in processor:\n",
    "        return '3'\n",
    "    elif '9' in processor:\n",
    "        return '9'\n",
    "    elif 'celeron' in processor.lower():\n",
    "        return '2'\n",
    "    elif 'm1' in processor.lower():\n",
    "        return '6.5'\n",
    "    elif 'm2' in processor.lower():\n",
    "        return '7.5'\n",
    "    else:\n",
    "        return processor \n",
    "laptop['price'] = laptop['price'].apply(lambda x: int(x))\n",
    "laptop['name'] = laptop['name'].apply(lambda x: str(x))\n",
    "laptop['brand'] = laptop['brand'].apply(lambda x: str(x))\n",
    "laptop.loc[laptop['ram memory'] == '1', 'ram memory'] = '16'\n",
    "laptop.loc[laptop['ram memory'] == '3', 'ram memory'] = '4'\n",
    "laptop.loc[laptop['ram memory'] == 'Not Specified', 'ram memory'] = '8'\n",
    "laptop.loc[laptop['ram memory'].isna(), 'ram memory'] = '8' \n",
    "laptop['ram memory'] = laptop['ram memory'].apply(lambda x: int(x))\n",
    "laptop['display size'] = laptop['display size'].apply(lambda x: float(x))\n",
    "laptop['processor'] = laptop['processor'].apply(clean_processor)"
   ]
  },
  {
   "cell_type": "code",
   "execution_count": null,
   "metadata": {},
   "outputs": [],
   "source": [
    "# temp = laptop[['processor', 'name', 'url']]\n",
    "# temp.to_csv('temp.csv', index=False)\n",
    "# tempp = pd.read_csv(\"temp.csv\")\n",
    "# tempp['processor'].value_counts()\n",
    "# laptop['processor'] = tempp['processor'].astype(float)\n",
    "# laptop.info()\n",
    "# laptop.to_csv(\"../laptop.csv\", index=False)"
   ]
  },
  {
   "cell_type": "code",
   "execution_count": null,
   "metadata": {},
   "outputs": [],
   "source": []
  }
 ],
 "metadata": {
  "kernelspec": {
   "display_name": "hnc",
   "language": "python",
   "name": "python3"
  },
  "language_info": {
   "codemirror_mode": {
    "name": "ipython",
    "version": 3
   },
   "file_extension": ".py",
   "mimetype": "text/x-python",
   "name": "python",
   "nbconvert_exporter": "python",
   "pygments_lexer": "ipython3",
   "version": "3.12.2"
  }
 },
 "nbformat": 4,
 "nbformat_minor": 2
}
