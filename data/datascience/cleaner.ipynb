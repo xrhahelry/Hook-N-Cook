{
 "cells": [
  {
   "cell_type": "code",
   "execution_count": 122,
   "metadata": {},
   "outputs": [],
   "source": [
    "import pandas as pd\n",
    "import numpy as np"
   ]
  },
  {
   "cell_type": "code",
   "execution_count": 123,
   "metadata": {},
   "outputs": [],
   "source": [
    "laptop = pd.read_csv(\"../laptop.csv\")"
   ]
  },
  {
   "cell_type": "code",
   "execution_count": 124,
   "metadata": {},
   "outputs": [
    {
     "name": "stdout",
     "output_type": "stream",
     "text": [
      "<class 'pandas.core.frame.DataFrame'>\n",
      "RangeIndex: 1513 entries, 0 to 1512\n",
      "Data columns (total 16 columns):\n",
      " #   Column            Non-Null Count  Dtype  \n",
      "---  ------            --------------  -----  \n",
      " 0   id                1513 non-null   object \n",
      " 1   price             1513 non-null   int64  \n",
      " 2   brand             1513 non-null   object \n",
      " 3   model             1513 non-null   object \n",
      " 4   processor         1513 non-null   object \n",
      " 5   ram memory        1513 non-null   int64  \n",
      " 6   display size      1513 non-null   float64\n",
      " 7   storage capacity  1479 non-null   object \n",
      " 8   cpu cores         1145 non-null   object \n",
      " 9   graphics card     0 non-null      float64\n",
      " 10  graphics memory   235 non-null    object \n",
      " 11  touch             1513 non-null   bool   \n",
      " 12  rating            1513 non-null   float64\n",
      " 13  reviews           1513 non-null   int64  \n",
      " 14  name              1513 non-null   object \n",
      " 15  url               1513 non-null   object \n",
      "dtypes: bool(1), float64(3), int64(3), object(9)\n",
      "memory usage: 178.9+ KB\n"
     ]
    }
   ],
   "source": [
    "laptop.isnull().sum()"
   ]
  },
  {
   "cell_type": "code",
   "execution_count": 125,
   "metadata": {},
   "outputs": [
    {
     "name": "stderr",
     "output_type": "stream",
     "text": [
      "C:\\Users\\N I T R O 5\\AppData\\Local\\Temp\\ipykernel_10952\\1185668275.py:8: FutureWarning: Setting an item of incompatible dtype is deprecated and will raise an error in a future version of pandas. Value '16' has dtype incompatible with int64, please explicitly cast to a compatible dtype first.\n",
      "  laptop.loc[laptop['ram memory'] == '1', 'ram memory'] = '16'\n",
      "C:\\Users\\N I T R O 5\\AppData\\Local\\Temp\\ipykernel_10952\\1185668275.py:11: FutureWarning: Downcasting object dtype arrays on .fillna, .ffill, .bfill is deprecated and will change in a future version. Call result.infer_objects(copy=False) instead. To opt-in to the future behavior, set `pd.set_option('future.no_silent_downcasting', True)`\n",
      "  laptop['ram memory'] = laptop['ram memory'].fillna('8')\n",
      "C:\\Users\\N I T R O 5\\AppData\\Local\\Temp\\ipykernel_10952\\1185668275.py:13: FutureWarning: Setting an item of incompatible dtype is deprecated and will raise an error in a future version of pandas. Value '0' has dtype incompatible with float64, please explicitly cast to a compatible dtype first.\n",
      "  laptop.loc[laptop['display size'] == 'Not Specified', 'display size'] = '0'\n"
     ]
    }
   ],
   "source": [
    "laptop.loc[laptop['touch'] == 'No', 'touch'] = False\n",
    "laptop.loc[laptop['touch'] == 'Yes', 'touch'] = True \n",
    "laptop.loc[laptop['touch'].isna(), 'touch'] = False \n",
    "laptop['touch'] = laptop['touch'].astype(bool)\n",
    "laptop['price'] = laptop['price'].apply(lambda x: int(x))\n",
    "laptop['name'] = laptop['name'].apply(lambda x: str(x))\n",
    "laptop['brand'] = laptop['brand'].apply(lambda x: str(x))\n",
    "laptop.loc[laptop['ram memory'] == '1', 'ram memory'] = '16'\n",
    "laptop.loc[laptop['ram memory'] == '3', 'ram memory'] = '4'\n",
    "laptop.loc[laptop['ram memory'] == 'Not Specified', 'ram memory'] = '8'\n",
    "laptop['ram memory'] = laptop['ram memory'].fillna('8')\n",
    "laptop['ram memory'] = laptop['ram memory'].apply(lambda x: int(x))\n",
    "laptop.loc[laptop['display size'] == 'Not Specified', 'display size'] = '0'"
   ]
  },
  {
   "cell_type": "code",
   "execution_count": 126,
   "metadata": {},
   "outputs": [
    {
     "name": "stdout",
     "output_type": "stream",
     "text": [
      "<class 'pandas.core.frame.DataFrame'>\n",
      "RangeIndex: 1513 entries, 0 to 1512\n",
      "Data columns (total 16 columns):\n",
      " #   Column            Non-Null Count  Dtype  \n",
      "---  ------            --------------  -----  \n",
      " 0   id                1513 non-null   object \n",
      " 1   price             1513 non-null   int64  \n",
      " 2   brand             1513 non-null   object \n",
      " 3   model             1513 non-null   object \n",
      " 4   processor         1513 non-null   object \n",
      " 5   ram memory        1513 non-null   int64  \n",
      " 6   display size      1513 non-null   object \n",
      " 7   storage capacity  1479 non-null   object \n",
      " 8   cpu cores         1145 non-null   object \n",
      " 9   graphics card     0 non-null      float64\n",
      " 10  graphics memory   235 non-null    object \n",
      " 11  touch             1513 non-null   bool   \n",
      " 12  rating            1513 non-null   float64\n",
      " 13  reviews           1513 non-null   int64  \n",
      " 14  name              1513 non-null   object \n",
      " 15  url               1513 non-null   object \n",
      "dtypes: bool(1), float64(2), int64(3), object(10)\n",
      "memory usage: 178.9+ KB\n"
     ]
    }
   ],
   "source": [
    "laptop.info()"
   ]
  },
  {
   "cell_type": "code",
   "execution_count": 127,
   "metadata": {},
   "outputs": [],
   "source": [
    "# laptop['display size'].value_counts()"
   ]
  },
  {
   "cell_type": "code",
   "execution_count": 128,
   "metadata": {},
   "outputs": [],
   "source": [
    "# temp = laptop[['display size', 'name', 'url']]\n",
    "# temp.to_csv('temp.csv', index=False)"
   ]
  },
  {
   "cell_type": "code",
   "execution_count": 129,
   "metadata": {},
   "outputs": [],
   "source": [
    "# tempp = pd.read_csv(\"temp.csv\")\n",
    "# tempp['display size'].value_counts()\n",
    "# laptop['display size'] = tempp['display size']\n",
    "# laptop.info()"
   ]
  },
  {
   "cell_type": "code",
   "execution_count": 130,
   "metadata": {},
   "outputs": [],
   "source": [
    "# laptop.to_csv(\"../laptop.csv\", index=False)"
   ]
  },
  {
   "cell_type": "code",
   "execution_count": null,
   "metadata": {},
   "outputs": [],
   "source": []
  }
 ],
 "metadata": {
  "kernelspec": {
   "display_name": "hnc",
   "language": "python",
   "name": "python3"
  },
  "language_info": {
   "codemirror_mode": {
    "name": "ipython",
    "version": 3
   },
   "file_extension": ".py",
   "mimetype": "text/x-python",
   "name": "python",
   "nbconvert_exporter": "python",
   "pygments_lexer": "ipython3",
   "version": "3.10.11"
  }
 },
 "nbformat": 4,
 "nbformat_minor": 2
}
