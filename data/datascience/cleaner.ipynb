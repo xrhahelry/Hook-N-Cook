{
 "cells": [
  {
   "cell_type": "code",
   "execution_count": 71,
   "metadata": {},
   "outputs": [],
   "source": [
    "import pandas as pd"
   ]
  },
  {
   "cell_type": "code",
   "execution_count": 72,
   "metadata": {},
   "outputs": [],
   "source": [
    "laptop = pd.read_csv(\"../scraper/unclean.csv\")"
   ]
  },
  {
   "cell_type": "code",
   "execution_count": 73,
   "metadata": {},
   "outputs": [
    {
     "name": "stdout",
     "output_type": "stream",
     "text": [
      "<class 'pandas.core.frame.DataFrame'>\n",
      "RangeIndex: 1515 entries, 0 to 1514\n",
      "Data columns (total 16 columns):\n",
      " #   Column            Non-Null Count  Dtype  \n",
      "---  ------            --------------  -----  \n",
      " 0   id                1515 non-null   object \n",
      " 1   price             1515 non-null   int64  \n",
      " 2   brand             1515 non-null   object \n",
      " 3   model             1515 non-null   object \n",
      " 4   processor         1515 non-null   object \n",
      " 5   ram memory        1484 non-null   object \n",
      " 6   display size      1484 non-null   object \n",
      " 7   storage capacity  1481 non-null   object \n",
      " 8   cpu cores         1145 non-null   object \n",
      " 9   graphics card     0 non-null      float64\n",
      " 10  graphics memory   236 non-null    object \n",
      " 11  touch             206 non-null    object \n",
      " 12  rating            1515 non-null   float64\n",
      " 13  reviews           1515 non-null   int64  \n",
      " 14  name              1515 non-null   object \n",
      " 15  url               1515 non-null   object \n",
      "dtypes: float64(2), int64(2), object(12)\n",
      "memory usage: 189.5+ KB\n"
     ]
    }
   ],
   "source": [
    "laptop.info()"
   ]
  },
  {
   "cell_type": "code",
   "execution_count": 74,
   "metadata": {},
   "outputs": [],
   "source": [
    "laptop.loc[laptop['touch'] == 'No', 'touch'] = False\n",
    "laptop.loc[laptop['touch'] == 'Yes', 'touch'] = True \n",
    "laptop.loc[laptop['touch'].isna(), 'touch'] = False \n",
    "laptop['touch'] = laptop['touch'].astype(bool)\n",
    "laptop['price'] = laptop['price'].apply(lambda x: int(x))\n",
    "laptop['name'] = laptop['name'].apply(lambda x: str(x))\n",
    "laptop['brand'] = laptop['brand'].apply(lambda x: str(x))\n",
    "laptop.loc[laptop['ram memory'] == '1', 'ram memory'] = '16'\n",
    "laptop.loc[laptop['ram memory'] == '3', 'ram memory'] = '4'\n",
    "laptop.loc[laptop['ram memory'] == 'Not Specified', 'ram memory'] = '8'\n",
    "laptop['ram memory'] = laptop['ram memory'].fillna('8')\n",
    "laptop['ram memory'] = laptop['ram memory'].apply(lambda x: int(x))"
   ]
  },
  {
   "cell_type": "code",
   "execution_count": 77,
   "metadata": {},
   "outputs": [
    {
     "name": "stdout",
     "output_type": "stream",
     "text": [
      "<class 'pandas.core.frame.DataFrame'>\n",
      "RangeIndex: 1515 entries, 0 to 1514\n",
      "Data columns (total 16 columns):\n",
      " #   Column            Non-Null Count  Dtype  \n",
      "---  ------            --------------  -----  \n",
      " 0   id                1515 non-null   object \n",
      " 1   price             1515 non-null   int64  \n",
      " 2   brand             1515 non-null   object \n",
      " 3   model             1515 non-null   object \n",
      " 4   processor         1515 non-null   object \n",
      " 5   ram memory        1515 non-null   int64  \n",
      " 6   display size      1484 non-null   object \n",
      " 7   storage capacity  1481 non-null   object \n",
      " 8   cpu cores         1145 non-null   object \n",
      " 9   graphics card     0 non-null      float64\n",
      " 10  graphics memory   236 non-null    object \n",
      " 11  touch             1515 non-null   bool   \n",
      " 12  rating            1515 non-null   float64\n",
      " 13  reviews           1515 non-null   int64  \n",
      " 14  name              1515 non-null   object \n",
      " 15  url               1515 non-null   object \n",
      "dtypes: bool(1), float64(2), int64(3), object(10)\n",
      "memory usage: 179.1+ KB\n"
     ]
    }
   ],
   "source": [
    "laptop.info()"
   ]
  },
  {
   "cell_type": "code",
   "execution_count": 75,
   "metadata": {},
   "outputs": [
    {
     "data": {
      "text/plain": [
       "ram memory\n",
       "8     894\n",
       "16    446\n",
       "4     135\n",
       "32     31\n",
       "12      5\n",
       "24      4\n",
       "Name: count, dtype: int64"
      ]
     },
     "execution_count": 75,
     "metadata": {},
     "output_type": "execute_result"
    }
   ],
   "source": [
    "laptop['ram memory'].value_counts()"
   ]
  },
  {
   "cell_type": "code",
   "execution_count": 78,
   "metadata": {},
   "outputs": [],
   "source": [
    "laptop.to_csv(\"../laptop.csv\", index=False)"
   ]
  },
  {
   "cell_type": "code",
   "execution_count": null,
   "metadata": {},
   "outputs": [],
   "source": []
  }
 ],
 "metadata": {
  "kernelspec": {
   "display_name": "hnc",
   "language": "python",
   "name": "python3"
  },
  "language_info": {
   "codemirror_mode": {
    "name": "ipython",
    "version": 3
   },
   "file_extension": ".py",
   "mimetype": "text/x-python",
   "name": "python",
   "nbconvert_exporter": "python",
   "pygments_lexer": "ipython3",
   "version": "3.12.2"
  }
 },
 "nbformat": 4,
 "nbformat_minor": 2
}
