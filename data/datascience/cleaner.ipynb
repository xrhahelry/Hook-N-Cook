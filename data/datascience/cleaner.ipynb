{
 "cells": [
  {
   "cell_type": "code",
   "execution_count": 24,
   "metadata": {},
   "outputs": [],
   "source": [
    "import pandas as pd"
   ]
  },
  {
   "cell_type": "code",
   "execution_count": 25,
   "metadata": {},
   "outputs": [],
   "source": [
    "laptop = pd.read_csv(\"../laptops.csv\")"
   ]
  },
  {
   "cell_type": "code",
   "execution_count": 28,
   "metadata": {},
   "outputs": [
    {
     "name": "stderr",
     "output_type": "stream",
     "text": [
      "C:\\Users\\N I T R O 5\\AppData\\Local\\Temp\\ipykernel_6836\\3698593964.py:3: FutureWarning: Downcasting object dtype arrays on .fillna, .ffill, .bfill is deprecated and will change in a future version. Call result.infer_objects(copy=False) instead. To opt-in to the future behavior, set `pd.set_option('future.no_silent_downcasting', True)`\n",
      "  laptop.fillna({'touch': False}, inplace=True)\n"
     ]
    }
   ],
   "source": [
    "laptop.loc[laptop.touch == 'No', 'touch'] = False\n",
    "laptop.loc[laptop.touch == 'Yes', 'touch'] = True \n",
    "laptop.fillna({'touch': False}, inplace=True)"
   ]
  },
  {
   "cell_type": "code",
   "execution_count": 38,
   "metadata": {},
   "outputs": [],
   "source": [
    "laptop['price'] = laptop['price'].apply(lambda x: int(x))\n",
    "laptop['name'] = laptop['name'].apply(lambda x: str(x))"
   ]
  },
  {
   "cell_type": "code",
   "execution_count": 39,
   "metadata": {},
   "outputs": [
    {
     "name": "stdout",
     "output_type": "stream",
     "text": [
      "<class 'pandas.core.frame.DataFrame'>\n",
      "RangeIndex: 1517 entries, 0 to 1516\n",
      "Data columns (total 17 columns):\n",
      " #   Column            Non-Null Count  Dtype  \n",
      "---  ------            --------------  -----  \n",
      " 0   id                1517 non-null   object \n",
      " 1   price             1517 non-null   int64  \n",
      " 2   brand             1517 non-null   object \n",
      " 3   model             1517 non-null   object \n",
      " 4   processor         1516 non-null   object \n",
      " 5   operating system  1491 non-null   object \n",
      " 6   ram memory        1491 non-null   object \n",
      " 7   display size      1491 non-null   object \n",
      " 8   storage capacity  1488 non-null   object \n",
      " 9   cpu cores         1134 non-null   object \n",
      " 10  graphics card     0 non-null      float64\n",
      " 11  graphics memory   235 non-null    object \n",
      " 12  touch             1517 non-null   bool   \n",
      " 13  rating            1517 non-null   float64\n",
      " 14  reviews           1517 non-null   int64  \n",
      " 15  name              1517 non-null   object \n",
      " 16  url               1517 non-null   object \n",
      "dtypes: bool(1), float64(2), int64(2), object(12)\n",
      "memory usage: 191.2+ KB\n"
     ]
    }
   ],
   "source": [
    "laptop.info()"
   ]
  },
  {
   "cell_type": "code",
   "execution_count": 41,
   "metadata": {},
   "outputs": [],
   "source": [
    "laptop.to_csv('laptops.csv', index=False)"
   ]
  },
  {
   "cell_type": "code",
   "execution_count": null,
   "metadata": {},
   "outputs": [],
   "source": []
  }
 ],
 "metadata": {
  "kernelspec": {
   "display_name": "hnc",
   "language": "python",
   "name": "python3"
  },
  "language_info": {
   "codemirror_mode": {
    "name": "ipython",
    "version": 3
   },
   "file_extension": ".py",
   "mimetype": "text/x-python",
   "name": "python",
   "nbconvert_exporter": "python",
   "pygments_lexer": "ipython3",
   "version": "3.12.2"
  }
 },
 "nbformat": 4,
 "nbformat_minor": 2
}
