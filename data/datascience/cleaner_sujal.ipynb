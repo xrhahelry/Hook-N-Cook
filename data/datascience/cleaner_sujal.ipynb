{
 "cells": [
  {
   "cell_type": "code",
   "execution_count": 10,
   "metadata": {},
   "outputs": [
    {
     "name": "stdout",
     "output_type": "stream",
     "text": [
      "<class 'pandas.core.frame.DataFrame'>\n",
      "RangeIndex: 1564 entries, 0 to 1563\n",
      "Data columns (total 16 columns):\n",
      " #   Column            Non-Null Count  Dtype  \n",
      "---  ------            --------------  -----  \n",
      " 0   id                1564 non-null   object \n",
      " 1   price             1564 non-null   int64  \n",
      " 2   brand             1564 non-null   object \n",
      " 3   model             1564 non-null   object \n",
      " 4   processor         1564 non-null   float64\n",
      " 5   ram memory        1564 non-null   int64  \n",
      " 6   display size      1564 non-null   float64\n",
      " 7   storage capacity  1564 non-null   int64  \n",
      " 8   cpu cores         1564 non-null   int64  \n",
      " 9   graphics card     882 non-null    float64\n",
      " 10  rating            1564 non-null   float64\n",
      " 11  reviews           1564 non-null   int64  \n",
      " 12  name              1564 non-null   object \n",
      " 13  url               1564 non-null   object \n",
      " 14  image             1375 non-null   object \n",
      " 15  instock           1564 non-null   object \n",
      "dtypes: float64(4), int64(5), object(7)\n",
      "memory usage: 195.6+ KB\n"
     ]
    }
   ],
   "source": [
    "import pandas as pd\n",
    "\n",
    "laptop = pd.read_csv(\"../laptop.csv\")\n",
    "\n",
    "laptop.info()"
   ]
  },
  {
   "cell_type": "code",
   "execution_count": null,
   "metadata": {},
   "outputs": [],
   "source": [
    "def clean_processor(processor):\n",
    "    if \"7\" in processor:\n",
    "        return \"7\"\n",
    "    elif \"5\" in processor:\n",
    "        return \"5\"\n",
    "    elif \"3\" in processor:\n",
    "        return \"3\"\n",
    "    elif \"9\" in processor:\n",
    "        return \"9\"\n",
    "    elif \"celeron\" in processor.lower():\n",
    "        return \"2\"\n",
    "    elif \"m1\" in processor.lower():\n",
    "        return \"6.5\"\n",
    "    elif \"m2\" in processor.lower():\n",
    "        return \"7.5\"\n",
    "    else:\n",
    "        return processor\n",
    "\n",
    "\n",
    "laptop[\"price\"] = laptop[\"price\"].apply(lambda x: int(x))\n",
    "laptop[\"cpu cores\"] = laptop[\"cpu cores\"].apply(lambda x: int(x))\n",
    "laptop[\"name\"] = laptop[\"name\"].apply(lambda x: str(x))\n",
    "laptop[\"brand\"] = laptop[\"brand\"].apply(lambda x: str(x))\n",
    "laptop.loc[laptop[\"ram memory\"] == \"1\", \"ram memory\"] = \"16\"\n",
    "laptop.loc[laptop[\"ram memory\"] == \"3\", \"ram memory\"] = \"4\"\n",
    "laptop.loc[laptop[\"ram memory\"] == \"Not Specified\", \"ram memory\"] = \"8\"\n",
    "laptop.loc[laptop[\"ram memory\"].isna(), \"ram memory\"] = \"8\"\n",
    "laptop[\"ram memory\"] = laptop[\"ram memory\"].apply(lambda x: int(x))\n",
    "laptop[\"display size\"] = laptop[\"display size\"].apply(lambda x: float(x))\n",
    "laptop[\"processor\"] = laptop[\"processor\"].apply(clean_processor)"
   ]
  },
  {
   "cell_type": "code",
   "execution_count": null,
   "metadata": {},
   "outputs": [],
   "source": [
    "\n",
    "# temp = laptop[['processor', 'name', 'url']]\n",
    "# temp.to_csv('temp.csv', index=False)\n",
    "# tempp = pd.read_csv(\"temp.csv\")\n",
    "# tempp['processor'].value_counts()\n",
    "# laptop['processor'] = tempp['processor'].astype(float)"
   ]
  },
  {
   "cell_type": "code",
   "execution_count": null,
   "metadata": {},
   "outputs": [],
   "source": [
    "\n",
    "print(laptop.info())\n",
    "laptop.to_csv(\"../laptop.csv\", index=False)"
   ]
  },
  {
   "cell_type": "code",
   "execution_count": null,
   "metadata": {},
   "outputs": [],
   "source": []
  }
 ],
 "metadata": {
  "kernelspec": {
   "display_name": "hnc",
   "language": "python",
   "name": "python3"
  },
  "language_info": {
   "codemirror_mode": {
    "name": "ipython",
    "version": 3
   },
   "file_extension": ".py",
   "mimetype": "text/x-python",
   "name": "python",
   "nbconvert_exporter": "python",
   "pygments_lexer": "ipython3",
   "version": "3.12.2"
  }
 },
 "nbformat": 4,
 "nbformat_minor": 2
}
