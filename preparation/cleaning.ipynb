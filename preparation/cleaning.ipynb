{
 "cells": [
  {
   "cell_type": "code",
   "execution_count": 7,
   "metadata": {},
   "outputs": [],
   "source": [
    "import pandas as pd\n",
    "import numpy as np\n",
    "import re"
   ]
  },
  {
   "cell_type": "code",
   "execution_count": 8,
   "metadata": {},
   "outputs": [
    {
     "data": {
      "text/html": [
       "<div>\n",
       "<style scoped>\n",
       "    .dataframe tbody tr th:only-of-type {\n",
       "        vertical-align: middle;\n",
       "    }\n",
       "\n",
       "    .dataframe tbody tr th {\n",
       "        vertical-align: top;\n",
       "    }\n",
       "\n",
       "    .dataframe thead th {\n",
       "        text-align: right;\n",
       "    }\n",
       "</style>\n",
       "<table border=\"1\" class=\"dataframe\">\n",
       "  <thead>\n",
       "    <tr style=\"text-align: right;\">\n",
       "      <th></th>\n",
       "      <th>price</th>\n",
       "      <th>brand</th>\n",
       "      <th>model</th>\n",
       "      <th>processor</th>\n",
       "      <th>ram memory</th>\n",
       "      <th>display size</th>\n",
       "      <th>storage capacity</th>\n",
       "      <th>cpu cores</th>\n",
       "      <th>graphics card</th>\n",
       "      <th>graphics memory</th>\n",
       "      <th>rating</th>\n",
       "      <th>reviews</th>\n",
       "      <th>name</th>\n",
       "    </tr>\n",
       "  </thead>\n",
       "  <tbody>\n",
       "    <tr>\n",
       "      <th>0</th>\n",
       "      <td>129900</td>\n",
       "      <td>apple</td>\n",
       "      <td>MacBook Air</td>\n",
       "      <td>Not Specified</td>\n",
       "      <td>8</td>\n",
       "      <td>13.3</td>\n",
       "      <td>256</td>\n",
       "      <td>NaN</td>\n",
       "      <td>NaN</td>\n",
       "      <td>NaN</td>\n",
       "      <td>4.8</td>\n",
       "      <td>73</td>\n",
       "      <td>Apple MacBook Air 13-inch M1 256GB - Oliz Store</td>\n",
       "    </tr>\n",
       "    <tr>\n",
       "      <th>1</th>\n",
       "      <td>27999</td>\n",
       "      <td>lenovo</td>\n",
       "      <td>Ideapad 1</td>\n",
       "      <td>Celeron Dual core</td>\n",
       "      <td>4</td>\n",
       "      <td>14</td>\n",
       "      <td>128</td>\n",
       "      <td>Dual Core</td>\n",
       "      <td>NaN</td>\n",
       "      <td>NaN</td>\n",
       "      <td>3.3</td>\n",
       "      <td>3</td>\n",
       "      <td>Lenovo Ideapad 1 Intel Celeron N4020 – 4GB DDR...</td>\n",
       "    </tr>\n",
       "    <tr>\n",
       "      <th>2</th>\n",
       "      <td>64999</td>\n",
       "      <td>dell</td>\n",
       "      <td>Vostro 3520</td>\n",
       "      <td>Intel Core i5</td>\n",
       "      <td>16</td>\n",
       "      <td>15.6</td>\n",
       "      <td>512</td>\n",
       "      <td>Not Specified</td>\n",
       "      <td>NaN</td>\n",
       "      <td>NaN</td>\n",
       "      <td>4.5</td>\n",
       "      <td>13</td>\n",
       "      <td>Dell Vostro 3520 i5 12th Gen | 16GB RAM | 512G...</td>\n",
       "    </tr>\n",
       "    <tr>\n",
       "      <th>3</th>\n",
       "      <td>101999</td>\n",
       "      <td>acer</td>\n",
       "      <td>Nitro 5</td>\n",
       "      <td>Ryzen 7</td>\n",
       "      <td>16</td>\n",
       "      <td>15.6</td>\n",
       "      <td>512</td>\n",
       "      <td>NaN</td>\n",
       "      <td>NaN</td>\n",
       "      <td>NaN</td>\n",
       "      <td>5.0</td>\n",
       "      <td>1</td>\n",
       "      <td>Acer Nitro 5 Ryzen 7 5800H 16GB Ram 512GB SSD ...</td>\n",
       "    </tr>\n",
       "    <tr>\n",
       "      <th>4</th>\n",
       "      <td>107999</td>\n",
       "      <td>hp</td>\n",
       "      <td>Victus 15</td>\n",
       "      <td>Intel Core i5</td>\n",
       "      <td>16</td>\n",
       "      <td>15.6</td>\n",
       "      <td>512</td>\n",
       "      <td>NaN</td>\n",
       "      <td>NaN</td>\n",
       "      <td>NaN</td>\n",
       "      <td>4.6</td>\n",
       "      <td>10</td>\n",
       "      <td>HP Victus 15 i5 13th Gen 13420H / 16GB DDR4 RA...</td>\n",
       "    </tr>\n",
       "  </tbody>\n",
       "</table>\n",
       "</div>"
      ],
      "text/plain": [
       "    price   brand        model          processor ram memory display size  \\\n",
       "0  129900   apple  MacBook Air      Not Specified          8         13.3   \n",
       "1   27999  lenovo    Ideapad 1  Celeron Dual core          4           14   \n",
       "2   64999    dell  Vostro 3520      Intel Core i5         16         15.6   \n",
       "3  101999    acer      Nitro 5            Ryzen 7         16         15.6   \n",
       "4  107999      hp    Victus 15      Intel Core i5         16         15.6   \n",
       "\n",
       "  storage capacity      cpu cores  graphics card graphics memory  rating  \\\n",
       "0              256            NaN            NaN             NaN     4.8   \n",
       "1              128      Dual Core            NaN             NaN     3.3   \n",
       "2              512  Not Specified            NaN             NaN     4.5   \n",
       "3              512            NaN            NaN             NaN     5.0   \n",
       "4              512            NaN            NaN             NaN     4.6   \n",
       "\n",
       "   reviews                                               name  \n",
       "0       73    Apple MacBook Air 13-inch M1 256GB - Oliz Store  \n",
       "1        3  Lenovo Ideapad 1 Intel Celeron N4020 – 4GB DDR...  \n",
       "2       13  Dell Vostro 3520 i5 12th Gen | 16GB RAM | 512G...  \n",
       "3        1  Acer Nitro 5 Ryzen 7 5800H 16GB Ram 512GB SSD ...  \n",
       "4       10  HP Victus 15 i5 13th Gen 13420H / 16GB DDR4 RA...  "
      ]
     },
     "execution_count": 8,
     "metadata": {},
     "output_type": "execute_result"
    }
   ],
   "source": [
    "laptop = pd.read_csv(\"../data/laptop.csv\")\n",
    "laptop.head()"
   ]
  },
  {
   "cell_type": "code",
   "execution_count": null,
   "metadata": {},
   "outputs": [],
   "source": [
    "print(laptop.shape)"
   ]
  },
  {
   "cell_type": "code",
   "execution_count": null,
   "metadata": {},
   "outputs": [],
   "source": [
    "laptop.info()"
   ]
  },
  {
   "cell_type": "markdown",
   "metadata": {},
   "source": [
    "### Cleaning the 'processor' column"
   ]
  },
  {
   "cell_type": "code",
   "execution_count": null,
   "metadata": {},
   "outputs": [],
   "source": [
    "def clean_processor(processor):\n",
    "    if \"7\" in processor:\n",
    "        return \"7\"\n",
    "    elif \"5\" in processor:\n",
    "        return \"5\"\n",
    "    elif \"3\" in processor:\n",
    "        return \"3\"\n",
    "    elif \"9\" in processor:\n",
    "        return \"9\"\n",
    "    elif \"celeron\" in processor.lower():\n",
    "        return \"2\"\n",
    "    elif \"m1\" in processor.lower():\n",
    "        return \"6.5\"\n",
    "    elif \"m2\" in processor.lower():\n",
    "        return \"7.5\"\n",
    "    else:\n",
    "        return processor\n",
    "\n",
    "laptop[\"processor\"] = laptop[\"processor\"].apply(clean_processor)\n",
    "laptop['processor'].isnull().sum()\n",
    "# laptop['processor'].value_counts()"
   ]
  },
  {
   "cell_type": "markdown",
   "metadata": {},
   "source": [
    "### Cleaning the 'ram' column"
   ]
  },
  {
   "cell_type": "code",
   "execution_count": null,
   "metadata": {},
   "outputs": [],
   "source": [
    "laptop.loc[laptop[\"ram memory\"] == \"1\", \"ram memory\"] = \"16\"\n",
    "laptop.loc[laptop[\"ram memory\"] == \"3\", \"ram memory\"] = \"4\"\n",
    "laptop.loc[laptop[\"ram memory\"] == \"Not Specified\", \"ram memory\"] = \"8\"\n",
    "laptop.loc[laptop[\"ram memory\"].isna(), \"ram memory\"] = \"8\""
   ]
  },
  {
   "cell_type": "markdown",
   "metadata": {},
   "source": [
    "### For Cleaning 'storage capacity' Column"
   ]
  },
  {
   "cell_type": "code",
   "execution_count": null,
   "metadata": {},
   "outputs": [],
   "source": [
    "laptop['storage capacity'].isnull().sum()\n",
    "# laptop['storage capacity'].value_counts()"
   ]
  },
  {
   "cell_type": "code",
   "execution_count": null,
   "metadata": {},
   "outputs": [],
   "source": [
    "laptop['name'] = laptop['name'].astype(str)\n",
    "numbers_to_check = {\n",
    "    '256GB': '256',\n",
    "    '64GB': '64',\n",
    "    '512GB': '512',\n",
    "    '1TB': '1024',\n",
    "    '2TB': '2048',\n",
    "}\n",
    "\n",
    "def update_storage(row):\n",
    "    if pd.isnull(row['storage capacity']):\n",
    "        words = row['name'].split(' ')\n",
    "        for word in words:\n",
    "            if word in numbers_to_check:\n",
    "                return numbers_to_check[word]\n",
    "    return row['storage capacity']\n",
    "\n",
    "initial_nan_indices = laptop[laptop['storage capacity'].isnull()].index\n",
    "\n",
    "laptop['storage capacity'] = laptop.apply(update_storage, axis=1)\n",
    "\n",
    "for index in initial_nan_indices:\n",
    "    if not pd.isnull(laptop.at[index, 'storage capacity']):\n",
    "        print(f\"Index: {index}, Name: {laptop.at[index, 'name']}, Storage: {laptop.at[index, 'storage capacity']}\")"
   ]
  },
  {
   "cell_type": "markdown",
   "metadata": {},
   "source": [
    "### For Cleaning 'cpu cores' Column\n"
   ]
  },
  {
   "cell_type": "code",
   "execution_count": null,
   "metadata": {},
   "outputs": [],
   "source": [
    "laptop.loc[laptop['cpu cores'] == 'Quad Core', 'cpu cores'] = '4'\n",
    "laptop.loc[laptop['cpu cores'] == 'Octa Core', 'cpu cores'] = '8'\n",
    "laptop.loc[laptop['cpu cores'] == 'Hexa Core', 'cpu cores'] = '6'\n",
    "laptop.loc[laptop['cpu cores'] == 'Single Core', 'cpu cores'] = '1'\n",
    "laptop.loc[laptop['cpu cores'] == 'Dual Core', 'cpu cores'] = '2'\n",
    "laptop.loc[laptop['cpu cores'] == 'Deca Core', 'cpu cores'] = '10'\n",
    "laptop.loc[laptop['cpu cores'] == 'Dodeca Core', 'cpu cores'] = '12'\n",
    "laptop.loc[laptop['cpu cores'] == 'Not Specified', 'cpu cores'] = np.nan\n",
    "\n",
    "\n",
    "laptop['cpu cores'].value_counts()\n",
    "# laptop['cpu cores'].isnull().sum()"
   ]
  },
  {
   "cell_type": "code",
   "execution_count": null,
   "metadata": {},
   "outputs": [],
   "source": [
    "laptop['cpu cores'] = laptop['cpu cores'].apply(lambda x: int(float(x)))\n",
    "laptop['cpu cores'].isnull().sum()\n",
    "# laptop.to_csv(\"../laptop.csv\", index=False)"
   ]
  },
  {
   "cell_type": "code",
   "execution_count": null,
   "metadata": {},
   "outputs": [],
   "source": [
    "def get_cpu_cores(processor):\n",
    "    if processor == 3.0:\n",
    "        return 4\n",
    "    elif processor == 5.0:\n",
    "        return 6\n",
    "    elif processor == 7:\n",
    "        return 8\n",
    "    elif processor == 9:\n",
    "        return 10\n",
    "    elif processor == 2:\n",
    "        return 2\n",
    "    else:\n",
    "        return None\n",
    "\n",
    "laptop.loc[laptop['cpu cores'].isnull(), 'cpu cores'] = laptop.loc[laptop['cpu cores'].isnull(), 'processor'].apply(get_cpu_cores)\n",
    "\n"
   ]
  },
  {
   "cell_type": "code",
   "execution_count": null,
   "metadata": {},
   "outputs": [],
   "source": [
    "def clean_text(text):\n",
    "    if isinstance(text, str):  # Check if the text is a string\n",
    "        # Define the pattern to match unwanted characters\n",
    "        pattern = r'[\\/,.\\(\\):;\\-]'\n",
    "        # Use re.sub() to replace unwanted characters with an empty string\n",
    "        cleaned_text = re.sub(pattern, '', text)\n",
    "        return cleaned_text\n",
    "    return text  \n",
    "df2['details'] = df2['details'].astype(str)\n",
    "df2['details'] = df2['details'].apply(clean_text)\n"
   ]
  },
  {
   "cell_type": "code",
   "execution_count": null,
   "metadata": {},
   "outputs": [],
   "source": [
    "# # Clean and standardize the 'details' column\n",
    "df2['details'] = df2['details'].str.replace(r'(\\d+)\\s+cores', r'\\1cores', regex=True)\n",
    "df2['details'] = df2['details'].str.replace(r'(\\d+)\\s+Cores', r'\\1Cores', regex=True)\n",
    "\n",
    "# Iterate over the DataFrame rows\n",
    "for index, row in df2.iterrows():\n",
    "    # Check for null or \"Not Specified\" in 'details' column\n",
    "    if pd.isnull(row['details']):\n",
    "        continue\n",
    "\n",
    "    # Use regex to find the number of cores\n",
    "    match = re.search(r'(\\d+)[-]?[cC]ore[sS]', row['details'])\n",
    "    \n",
    "    if match:\n",
    "        cores = int(match.group(1))\n",
    "        df2.loc[index, 'cpu cores'] = cores\n",
    "        print(\"Row:\", index)\n",
    "        print(\"Cores:\", df2.loc[index, 'cpu cores'])\n",
    "        print(\"Detail:\", row['details'])\n",
    "\n",
    "# Display the updated DataFrame\n",
    "print(df2)\n"
   ]
  },
  {
   "cell_type": "markdown",
   "metadata": {},
   "source": [
    "### For Cleaning 'graphics card' Column\n"
   ]
  },
  {
   "cell_type": "code",
   "execution_count": null,
   "metadata": {},
   "outputs": [],
   "source": [
    "# laptop.loc[laptop['graphics card'] == 1500.0, 'graphics card'] = 1000.0"
   ]
  },
  {
   "cell_type": "code",
   "execution_count": null,
   "metadata": {},
   "outputs": [],
   "source": [
    "# laptop.loc[laptop['graphics card'] == 0.0, 'graphics card'] = np.nan\n",
    "laptop['graphics card'] = laptop['graphics card'].apply(lambda x: int(x) if pd.notna(x) else np.nan)\n",
    "# laptop['graphics card'].value_counts()\n",
    "laptop['graphics card'].isnull().sum()\n"
   ]
  },
  {
   "cell_type": "code",
   "execution_count": null,
   "metadata": {},
   "outputs": [],
   "source": [
    "laptop = pd.read_csv('final_dataset.csv')\n",
    "laptop['name'] = laptop['name'].astype(str)\n",
    "numbers_to_check = {\n",
    "    '1050': '1050',\n",
    "    'UHD': '1000',\n",
    "    'MX550': '1500',\n",
    "    'MX350': '1300',\n",
    "    'MX330': '1300',\n",
    "    'MX230': '1200',\n",
    "    'MX450': '1400',\n",
    "    '2050': '2050',\n",
    "    '2070': '2070',\n",
    "    '1650ti': '1650',\n",
    "    'Iris': '2050',\n",
    "    '3050TI': '3050',\n",
    "    '3060': '3060',\n",
    "    '4050': '4050',\n",
    "    '4060': '4060',\n",
    "    '4070': '4070',\n",
    "    'Radeon': '2000',\n",
    "    '1660': '1660',\n",
    "    '3070': '3070',\n",
    "    'M1': '2500',\n",
    "    'M2': '2800',\n",
    "    \n",
    "    'M3': '2900',\n",
    "\n",
    "    'Vostro': '1000',\n",
    "    '2060': '2060',\n",
    "    '2040': '2040',\n",
    "    '3070': '3070',\n",
    "    '3070TI': '3070'\n",
    "}\n",
    "\n",
    "def update_graphics(row):\n",
    "    if pd.isnull(row['graphics card']):\n",
    "        words = row['name'].split(' ')\n",
    "        for word in words:\n",
    "            if word in numbers_to_check:\n",
    "                return numbers_to_check[word]\n",
    "    return row['graphics card']\n",
    "\n",
    "initial_nan_indices = laptop[laptop['graphics card'].isnull()].index\n",
    "\n",
    "laptop['graphics card'] = laptop.apply(update_graphics, axis=1)\n",
    "\n",
    "for index in initial_nan_indices:\n",
    "    if not pd.isnull(laptop.at[index, 'graphics card']):\n",
    "        print(f\"Index: {index}, Name: {laptop.at[index, 'name']}, Graphics Card: {laptop.at[index, 'graphics card']}\")\n",
    "\n",
    "\n",
    "temp = laptop[['graphics card', 'name', 'url']]\n",
    "# temp.to_csv('temp.csv', index=False)\n"
   ]
  },
  {
   "cell_type": "code",
   "execution_count": null,
   "metadata": {},
   "outputs": [],
   "source": [
    "laptop['graphics card'] = laptop['graphics card'].fillna(\"1000.0\")\n",
    "laptop['graphics card'].isnull().sum()\n",
    "laptop['graphics card'] = laptop['graphics card'].apply(lambda x: float(x))\n",
    "laptop['graphics card'] = laptop['graphics card'].apply(lambda x: int(x))"
   ]
  },
  {
   "cell_type": "code",
   "execution_count": null,
   "metadata": {},
   "outputs": [],
   "source": [
    "temp = pd.read_csv('temp.csv')\n",
    "laptop['graphics card'] = temp['graphics card']\n",
    "# laptop.to_csv(\"laptop.csv\", index=False)\n",
    "# df2.to_csv('corecolumns.csv', index=False)"
   ]
  },
  {
   "cell_type": "code",
   "execution_count": null,
   "metadata": {},
   "outputs": [],
   "source": []
  }
 ],
 "metadata": {
  "kernelspec": {
   "display_name": "hnc",
   "language": "python",
   "name": "python3"
  },
  "language_info": {
   "codemirror_mode": {
    "name": "ipython",
    "version": 3
   },
   "file_extension": ".py",
   "mimetype": "text/x-python",
   "name": "python",
   "nbconvert_exporter": "python",
   "pygments_lexer": "ipython3",
   "version": "3.12.2"
  }
 },
 "nbformat": 4,
 "nbformat_minor": 2
}
