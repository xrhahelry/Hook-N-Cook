{
 "cells": [
  {
   "cell_type": "code",
   "execution_count": 7,
   "metadata": {},
   "outputs": [],
   "source": [
    "from selenium import webdriver \n",
    "from selenium.webdriver.chrome.service import Service\n",
    "from selenium.webdriver.common.by import By\n",
    "import pandas as pd\n",
    "import os\n",
    "import re\n",
    "from datetime import date"
   ]
  },
  {
   "cell_type": "code",
   "execution_count": 8,
   "metadata": {},
   "outputs": [],
   "source": [
    "options = webdriver.ChromeOptions()\n",
    "options.add_argument(\"--headless=new\")\n",
    "\n",
    "service = Service(executable_path=r\"C:\\Users\\acer\\Desktop\\Hook-n-Cook\\chromedriver.exe\")\n",
    "driver = webdriver.Chrome(service=service, options=options)"
   ]
  },
  {
   "cell_type": "code",
   "execution_count": 9,
   "metadata": {},
   "outputs": [],
   "source": [
    "urls = pd.read_csv(\"../datasets/laptops_url_dataset.csv\")\n",
    "link = urls[\"Url\"]"
   ]
  },
  {
   "cell_type": "code",
   "execution_count": 14,
   "metadata": {},
   "outputs": [],
   "source": [
    "failed = []\n",
    "for x in range(0,6):\n",
    "    driver.get(link[x])\n",
    "    try:\n",
    "        actual_price = driver.find_element(\n",
    "            By.XPATH, '//*[@id=\"module_product_price_1\"]/div/div/div/span[1]'\n",
    "        ).text\n",
    "\n",
    "        discount_price = driver.find_element(\n",
    "            By.XPATH, '//*[@id=\"module_product_price_1\"]/div/div/span'\n",
    "        ).text\n",
    "    except:\n",
    "        actual_price = driver.find_element(\n",
    "            By.XPATH, '//*[@id=\"module_product_price_1\"]/div/div/span'\n",
    "        ).text\n",
    "\n",
    "        discount_price = actual_price\n",
    "\n",
    "    today = date.today()\n",
    "    df = pd.DataFrame([[today, actual_price, discount_price]], columns=[\"Date\", \"Actual Price\", \"Discount Price\"])\n",
    "    df[\"Actual Price\"] = df[\"Actual Price\"].str.replace(\"Rs. \", \"\").str.replace(\",\", \"\")\n",
    "    df[\"Discount Price\"] = df[\"Discount Price\"].str.replace(\"Rs. \", \"\").str.replace(\",\", \"\")\n",
    "    name = str(link[x])\n",
    "    name = re.sub(r'[^a-zA-Z0-9]', '', name)\n",
    "    name = re.sub(r'httpswwwdarazcomnpproducts', '', name)\n",
    "    filename = \"../datasets/prices/\" + name + \".csv\"\n",
    "    try:\n",
    "        df.to_csv(filename, mode='a', header = not os.path.exists(filename), index=False)\n",
    "    except:\n",
    "        failed.append(filename)\n",
    "\n"
   ]
  },
  {
   "cell_type": "code",
   "execution_count": 13,
   "metadata": {},
   "outputs": [
    {
     "data": {
      "text/html": [
       "<div>\n",
       "<style scoped>\n",
       "    .dataframe tbody tr th:only-of-type {\n",
       "        vertical-align: middle;\n",
       "    }\n",
       "\n",
       "    .dataframe tbody tr th {\n",
       "        vertical-align: top;\n",
       "    }\n",
       "\n",
       "    .dataframe thead th {\n",
       "        text-align: right;\n",
       "    }\n",
       "</style>\n",
       "<table border=\"1\" class=\"dataframe\">\n",
       "  <thead>\n",
       "    <tr style=\"text-align: right;\">\n",
       "      <th></th>\n",
       "      <th>Date</th>\n",
       "      <th>Actual Price</th>\n",
       "      <th>Discount Price</th>\n",
       "    </tr>\n",
       "  </thead>\n",
       "  <tbody>\n",
       "    <tr>\n",
       "      <th>0</th>\n",
       "      <td>2024-04-10</td>\n",
       "      <td>125000</td>\n",
       "      <td>103999</td>\n",
       "    </tr>\n",
       "  </tbody>\n",
       "</table>\n",
       "</div>"
      ],
      "text/plain": [
       "         Date Actual Price Discount Price\n",
       "0  2024-04-10       125000         103999"
      ]
     },
     "execution_count": 13,
     "metadata": {},
     "output_type": "execute_result"
    }
   ],
   "source": [
    "df\n"
   ]
  },
  {
   "cell_type": "code",
   "execution_count": 12,
   "metadata": {},
   "outputs": [
    {
     "ename": "SyntaxError",
     "evalue": "invalid syntax (525519296.py, line 1)",
     "output_type": "error",
     "traceback": [
      "\u001b[1;36m  Cell \u001b[1;32mIn[12], line 1\u001b[1;36m\u001b[0m\n\u001b[1;33m    |\u001b[0m\n\u001b[1;37m    ^\u001b[0m\n\u001b[1;31mSyntaxError\u001b[0m\u001b[1;31m:\u001b[0m invalid syntax\n"
     ]
    }
   ],
   "source": []
  }
 ],
 "metadata": {
  "kernelspec": {
   "display_name": "datascience",
   "language": "python",
   "name": "python3"
  },
  "language_info": {
   "codemirror_mode": {
    "name": "ipython",
    "version": 3
   },
   "file_extension": ".py",
   "mimetype": "text/x-python",
   "name": "python",
   "nbconvert_exporter": "python",
   "pygments_lexer": "ipython3",
   "version": "3.10.11"
  }
 },
 "nbformat": 4,
 "nbformat_minor": 2
}
