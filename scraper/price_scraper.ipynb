{
 "cells": [
  {
   "cell_type": "code",
   "execution_count": null,
   "metadata": {},
   "outputs": [],
   "source": [
    "from selenium import webdriver \n",
    "from selenium.webdriver.chrome.service import Service\n",
    "from selenium.webdriver.common.by import By\n",
    "import pandas as pd\n",
    "import os\n",
    "import re\n",
    "from datetime import date"
   ]
  },
  {
   "cell_type": "code",
   "execution_count": null,
   "metadata": {},
   "outputs": [],
   "source": [
    "options = webdriver.ChromeOptions()\n",
    "options.add_argument(\"--headless=new\")\n",
    "\n",
    "service = Service(executable_path=\"chromedriver.exe\")\n",
    "driver = webdriver.Chrome(service=service, options=options)"
   ]
  },
  {
   "cell_type": "code",
   "execution_count": null,
   "metadata": {},
   "outputs": [],
   "source": [
    "urls = pd.read_csv(\"../datasets/laptops_url_dataset.csv\")\n",
    "links = urls[\"Url\"]"
   ]
  },
  {
   "cell_type": "code",
   "execution_count": null,
   "metadata": {},
   "outputs": [],
   "source": [
    "failed = []\n",
    "for link in links:\n",
    "    driver.get(link)\n",
    "    try:\n",
    "        actual_price = driver.find_element(\n",
    "            By.XPATH, '//*[@id=\"module_product_price_1\"]/div/div/div/span[1]'\n",
    "        ).text\n",
    "\n",
    "        discount_price = driver.find_element(\n",
    "            By.XPATH, '//*[@id=\"module_product_price_1\"]/div/div/span'\n",
    "        ).text\n",
    "    except:\n",
    "        actual_price = driver.find_element(\n",
    "            By.XPATH, '//*[@id=\"module_product_price_1\"]/div/div/span'\n",
    "        ).text\n",
    "\n",
    "        discount_price = actual_price\n",
    "\n",
    "    today = date.today()\n",
    "    df = pd.DataFrame([[today, actual_price, discount_price]], columns=[\"Date\", \"Actual Price\", \"Discount Price\"])\n",
    "    df[\"Actual Price\"] = df[\"Actual Price\"].str.replace(\"Rs. \", \"\").str.replace(\",\", \"\")\n",
    "    df[\"Discount Price\"] = df[\"Discount Price\"].str.replace(\"Rs. \", \"\").str.replace(\",\", \"\")\n",
    "    name = str(link)\n",
    "    name = re.sub(r'[^a-zA-Z0-9]', '', name)\n",
    "    name = re.sub(r'httpswwwdarazcomnpproducts', '', name)\n",
    "    filename = \"../datasets/prices/\" + name + \".csv\"\n",
    "    try:\n",
    "        df.to_csv(filename, mode='a', header = not os.path.exists(filename), index=False)\n",
    "    except:\n",
    "        failed.append(filename)"
   ]
  }
 ],
 "metadata": {
  "kernelspec": {
   "display_name": "datascience",
   "language": "python",
   "name": "python3"
  },
  "language_info": {
   "codemirror_mode": {
    "name": "ipython",
    "version": 3
   },
   "file_extension": ".py",
   "mimetype": "text/x-python",
   "name": "python",
   "nbconvert_exporter": "python",
   "pygments_lexer": "ipython3",
   "version": "3.12.2"
  }
 },
 "nbformat": 4,
 "nbformat_minor": 2
}
