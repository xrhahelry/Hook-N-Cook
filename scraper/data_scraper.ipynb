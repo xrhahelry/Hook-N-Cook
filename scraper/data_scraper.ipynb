{
 "cells": [
  {
   "cell_type": "code",
   "execution_count": 14,
   "metadata": {},
   "outputs": [],
   "source": [
    "from selenium import webdriver\n",
    "from selenium.webdriver.chrome.service import Service\n",
    "from selenium.webdriver.common.by import By\n",
    "from selenium.webdriver.support.ui import WebDriverWait\n",
    "from selenium.webdriver.support import expected_conditions as EC\n",
    "import pandas as pd"
   ]
  },
  {
   "cell_type": "code",
   "execution_count": 15,
   "metadata": {},
   "outputs": [],
   "source": [
    "options = webdriver.ChromeOptions()\n",
    "options.add_argument(\"--headless=new\")\n",
    "\n",
    "service = Service(executable_path=\"chromedriver.exe\")\n",
    "driver = webdriver.Chrome(service=service, options=options)"
   ]
  },
  {
   "cell_type": "code",
   "execution_count": 20,
   "metadata": {},
   "outputs": [
    {
     "data": {
      "text/plain": [
       "'https://www.daraz.com.np/products/apple-macbook-air-13-inch-m1-256gb-oliz-store-i106600811-s1028165605.html?search=1'"
      ]
     },
     "execution_count": 20,
     "metadata": {},
     "output_type": "execute_result"
    }
   ],
   "source": [
    "urls = pd.read_csv(\"../datasets/laptops_url_dataset.csv\")\n",
    "links = urls[\"Url\"]"
   ]
  },
  {
   "cell_type": "code",
   "execution_count": 19,
   "metadata": {},
   "outputs": [
    {
     "name": "stdout",
     "output_type": "stream",
     "text": [
      "Apple MacBook Air 13-inch M1 256GB - Oliz Store Rs. 139,900 Rs. 124,900 4.8 68 ratings\n"
     ]
    }
   ],
   "source": [
    "\n",
    "driver.get(links[0])\n",
    "details = []\n",
    "name = driver.find_element(\n",
    "    By.XPATH, '//*[@id=\"module_product_title_1\"]/div/div/span'\n",
    ").text\n",
    "\n",
    "try:\n",
    "    actual_price = driver.find_element(\n",
    "        By.XPATH, '//*[@id=\"module_product_price_1\"]/div/div/div/span[1]'\n",
    "    ).text\n",
    "\n",
    "    discount_price = driver.find_element(\n",
    "        By.XPATH, '//*[@id=\"module_product_price_1\"]/div/div/span'\n",
    "    ).text\n",
    "except:\n",
    "    actual_price = driver.find_element(\n",
    "        By.XPATH, '//*[@id=\"module_product_price_1\"]/div/div/span'\n",
    "    ).text\n",
    "\n",
    "    discount_price = actual_price\n",
    "\n",
    "driver.execute_script(\"window.scrollTo(0, 300)\")\n",
    "try:\n",
    "    WebDriverWait(driver, 1).until(\n",
    "        EC.presence_of_element_located(\n",
    "            (\n",
    "                By.XPATH,\n",
    "                '//*[@id=\"module_product_review\"]/div/div/div[2]/div[1]/div[1]/div[1]/span[1]',\n",
    "            )\n",
    "        )\n",
    "    )\n",
    "    rating = driver.find_element(\n",
    "        By.XPATH,\n",
    "        '//*[@id=\"module_product_review\"]/div/div/div[2]/div[1]/div[1]/div[1]/span[1]',\n",
    "    ).text\n",
    "\n",
    "    reviews = driver.find_element(\n",
    "        By.XPATH,\n",
    "        '//*[@id=\"module_product_review\"]/div/div/div[2]/div[1]/div[1]/div[3]',\n",
    "    ).text\n",
    "except:\n",
    "    rating = \"0\"\n",
    "    reviews = \"0\""
   ]
  },
  {
   "cell_type": "code",
   "execution_count": 18,
   "metadata": {},
   "outputs": [],
   "source": [
    "# driver.quit()"
   ]
  }
 ],
 "metadata": {
  "kernelspec": {
   "display_name": "datascience",
   "language": "python",
   "name": "python3"
  },
  "language_info": {
   "codemirror_mode": {
    "name": "ipython",
    "version": 3
   },
   "file_extension": ".py",
   "mimetype": "text/x-python",
   "name": "python",
   "nbconvert_exporter": "python",
   "pygments_lexer": "ipython3",
   "version": "3.12.2"
  }
 },
 "nbformat": 4,
 "nbformat_minor": 2
}
