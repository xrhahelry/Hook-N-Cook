{
 "cells": [
  {
   "cell_type": "code",
   "execution_count": 2,
   "metadata": {},
   "outputs": [],
   "source": [
    "from selenium import webdriver\n",
    "from selenium.webdriver.chrome.service import Service\n",
    "from selenium.webdriver.common.by import By\n",
    "from selenium.webdriver.support.ui import WebDriverWait\n",
    "from selenium.webdriver.support import expected_conditions as EC\n",
    "import pandas as pd\n",
    "import time"
   ]
  },
  {
   "cell_type": "code",
   "execution_count": 3,
   "metadata": {},
   "outputs": [],
   "source": [
    "options = webdriver.ChromeOptions()\n",
    "options.add_argument(\"--headless=new\")\n",
    "\n",
    "service = Service(executable_path=r\"C:\\Users\\acer\\Desktop\\Hook-n-Cook\\chromedriver.exe\")\n",
    "driver = webdriver.Chrome(service=service, options=options)"
   ]
  },
  {
   "cell_type": "code",
   "execution_count": 4,
   "metadata": {},
   "outputs": [],
   "source": [
    "urls = pd.read_csv(\"../datasets/yajjyu.csv\")\n",
    "links = urls[\"Url\"]"
   ]
  },
  {
   "cell_type": "code",
   "execution_count": 5,
   "metadata": {},
   "outputs": [
    {
     "ename": "TimeoutException",
     "evalue": "Message: \nStacktrace:\n\tGetHandleVerifier [0x00007FF696EF70C2+63090]\n\t(No symbol) [0x00007FF696E62D12]\n\t(No symbol) [0x00007FF696CFEC65]\n\t(No symbol) [0x00007FF696D4499D]\n\t(No symbol) [0x00007FF696D44ADC]\n\t(No symbol) [0x00007FF696D85B37]\n\t(No symbol) [0x00007FF696D6701F]\n\t(No symbol) [0x00007FF696D83412]\n\t(No symbol) [0x00007FF696D66D83]\n\t(No symbol) [0x00007FF696D383A8]\n\t(No symbol) [0x00007FF696D39441]\n\tGetHandleVerifier [0x00007FF6972F262D+4238301]\n\tGetHandleVerifier [0x00007FF69732F78D+4488509]\n\tGetHandleVerifier [0x00007FF697327A6F+4456479]\n\tGetHandleVerifier [0x00007FF696FD0606+953270]\n\t(No symbol) [0x00007FF696E6E5DF]\n\t(No symbol) [0x00007FF696E692B4]\n\t(No symbol) [0x00007FF696E693EB]\n\t(No symbol) [0x00007FF696E59C24]\n\tBaseThreadInitThunk [0x00007FFB3A27257D+29]\n\tRtlUserThreadStart [0x00007FFB3B90AA48+40]\n",
     "output_type": "error",
     "traceback": [
      "\u001b[1;31m---------------------------------------------------------------------------\u001b[0m",
      "\u001b[1;31mTimeoutException\u001b[0m                          Traceback (most recent call last)",
      "Cell \u001b[1;32mIn[5], line 52\u001b[0m\n\u001b[0;32m     49\u001b[0m details\u001b[38;5;241m.\u001b[39mappend(reviews)\n\u001b[0;32m     51\u001b[0m driver\u001b[38;5;241m.\u001b[39mexecute_script(\u001b[38;5;124m\"\u001b[39m\u001b[38;5;124mwindow.scrollTo(0, 900)\u001b[39m\u001b[38;5;124m\"\u001b[39m)\n\u001b[1;32m---> 52\u001b[0m \u001b[43mWebDriverWait\u001b[49m\u001b[43m(\u001b[49m\u001b[43mdriver\u001b[49m\u001b[43m,\u001b[49m\u001b[43m \u001b[49m\u001b[38;5;241;43m1\u001b[39;49m\u001b[43m)\u001b[49m\u001b[38;5;241;43m.\u001b[39;49m\u001b[43muntil\u001b[49m\u001b[43m(\u001b[49m\n\u001b[0;32m     53\u001b[0m \u001b[43m    \u001b[49m\u001b[43mEC\u001b[49m\u001b[38;5;241;43m.\u001b[39;49m\u001b[43mpresence_of_element_located\u001b[49m\u001b[43m(\u001b[49m\n\u001b[0;32m     54\u001b[0m \u001b[43m        \u001b[49m\u001b[43m(\u001b[49m\n\u001b[0;32m     55\u001b[0m \u001b[43m            \u001b[49m\u001b[43mBy\u001b[49m\u001b[38;5;241;43m.\u001b[39;49m\u001b[43mXPATH\u001b[49m\u001b[43m,\u001b[49m\n\u001b[0;32m     56\u001b[0m \u001b[43m            \u001b[49m\u001b[38;5;124;43m'\u001b[39;49m\u001b[38;5;124;43m//*[@id=\u001b[39;49m\u001b[38;5;124;43m\"\u001b[39;49m\u001b[38;5;124;43mmodule_product_detail\u001b[39;49m\u001b[38;5;124;43m\"\u001b[39;49m\u001b[38;5;124;43m]/div/div/div[2]/div[1]/ul/li[3]/div\u001b[39;49m\u001b[38;5;124;43m'\u001b[39;49m\n\u001b[0;32m     57\u001b[0m \n\u001b[0;32m     58\u001b[0m \u001b[43m        \u001b[49m\u001b[43m)\u001b[49m\n\u001b[0;32m     59\u001b[0m \u001b[43m    \u001b[49m\u001b[43m)\u001b[49m\n\u001b[0;32m     60\u001b[0m \u001b[43m)\u001b[49m\n\u001b[0;32m     61\u001b[0m storage \u001b[38;5;241m=\u001b[39m driver\u001b[38;5;241m.\u001b[39mfind_element(\n\u001b[0;32m     62\u001b[0m     By\u001b[38;5;241m.\u001b[39mXPATH,\n\u001b[0;32m     63\u001b[0m     \u001b[38;5;124m'\u001b[39m\u001b[38;5;124m//*[@id=\u001b[39m\u001b[38;5;124m\"\u001b[39m\u001b[38;5;124mmodule_product_detail\u001b[39m\u001b[38;5;124m\"\u001b[39m\u001b[38;5;124m]/div/div/div[2]/div[1]/ul/li[3]/div\u001b[39m\u001b[38;5;124m'\u001b[39m\n\u001b[0;32m     64\u001b[0m )\u001b[38;5;241m.\u001b[39mtext\n\u001b[0;32m     65\u001b[0m details\u001b[38;5;241m.\u001b[39mappend(storage)\n",
      "File \u001b[1;32mc:\\Users\\acer\\Desktop\\Hook-n-Cook\\env\\lib\\site-packages\\selenium\\webdriver\\support\\wait.py:105\u001b[0m, in \u001b[0;36mWebDriverWait.until\u001b[1;34m(self, method, message)\u001b[0m\n\u001b[0;32m    103\u001b[0m     \u001b[38;5;28;01mif\u001b[39;00m time\u001b[38;5;241m.\u001b[39mmonotonic() \u001b[38;5;241m>\u001b[39m end_time:\n\u001b[0;32m    104\u001b[0m         \u001b[38;5;28;01mbreak\u001b[39;00m\n\u001b[1;32m--> 105\u001b[0m \u001b[38;5;28;01mraise\u001b[39;00m TimeoutException(message, screen, stacktrace)\n",
      "\u001b[1;31mTimeoutException\u001b[0m: Message: \nStacktrace:\n\tGetHandleVerifier [0x00007FF696EF70C2+63090]\n\t(No symbol) [0x00007FF696E62D12]\n\t(No symbol) [0x00007FF696CFEC65]\n\t(No symbol) [0x00007FF696D4499D]\n\t(No symbol) [0x00007FF696D44ADC]\n\t(No symbol) [0x00007FF696D85B37]\n\t(No symbol) [0x00007FF696D6701F]\n\t(No symbol) [0x00007FF696D83412]\n\t(No symbol) [0x00007FF696D66D83]\n\t(No symbol) [0x00007FF696D383A8]\n\t(No symbol) [0x00007FF696D39441]\n\tGetHandleVerifier [0x00007FF6972F262D+4238301]\n\tGetHandleVerifier [0x00007FF69732F78D+4488509]\n\tGetHandleVerifier [0x00007FF697327A6F+4456479]\n\tGetHandleVerifier [0x00007FF696FD0606+953270]\n\t(No symbol) [0x00007FF696E6E5DF]\n\t(No symbol) [0x00007FF696E692B4]\n\t(No symbol) [0x00007FF696E693EB]\n\t(No symbol) [0x00007FF696E59C24]\n\tBaseThreadInitThunk [0x00007FFB3A27257D+29]\n\tRtlUserThreadStart [0x00007FFB3B90AA48+40]\n"
     ]
    }
   ],
   "source": [
    "# for x in range(0, 10):\n",
    "driver.get(links[1])\n",
    "details = []\n",
    "name = driver.find_element(\n",
    "    By.XPATH, '//*[@id=\"module_product_title_1\"]/div/div/span'\n",
    ").text\n",
    "details.append(name)\n",
    "\n",
    "try:\n",
    "    actual_price = driver.find_element(\n",
    "        By.XPATH, '//*[@id=\"module_product_price_1\"]/div/div/div/span[1]'\n",
    "    ).text\n",
    "\n",
    "    discount_price = driver.find_element(\n",
    "        By.XPATH, '//*[@id=\"module_product_price_1\"]/div/div/span'\n",
    "    ).text\n",
    "except:\n",
    "    actual_price = driver.find_element(\n",
    "        By.XPATH, '//*[@id=\"module_product_price_1\"]/div/div/span'\n",
    "    ).text\n",
    "\n",
    "    discount_price = actual_price\n",
    "details.append(actual_price)\n",
    "details.append(discount_price)\n",
    "\n",
    "driver.execute_script(\"window.scrollTo(0, 300)\")\n",
    "try:\n",
    "    WebDriverWait(driver, 1).until(\n",
    "        EC.presence_of_element_located(\n",
    "            (\n",
    "                By.XPATH,\n",
    "                '//*[@id=\"module_product_review\"]/div/div/div[2]/div[1]/div[1]/div[1]/span[1]',\n",
    "            )\n",
    "        )\n",
    "    )\n",
    "    rating = driver.find_element(\n",
    "        By.XPATH,\n",
    "        '//*[@id=\"module_product_review\"]/div/div/div[2]/div[1]/div[1]/div[1]/span[1]',\n",
    "    ).text\n",
    "\n",
    "    reviews = driver.find_element(\n",
    "        By.XPATH,\n",
    "        '//*[@id=\"module_product_review\"]/div/div/div[2]/div[1]/div[1]/div[3]',\n",
    "    ).text\n",
    "except:\n",
    "    rating = \"0\"\n",
    "    reviews = \"0\"\n",
    "details.append(rating)\n",
    "details.append(reviews)\n",
    "\n",
    "driver.execute_script(\"window.scrollTo(0, 900)\")\n",
    "WebDriverWait(driver, 1).until(\n",
    "    EC.presence_of_element_located(\n",
    "        (\n",
    "            By.XPATH,\n",
    "            '//*[@id=\"module_product_detail\"]/div/div/div[2]/div[1]/ul/li[3]/div'\n",
    "\n",
    "        )\n",
    "    )\n",
    ")\n",
    "storage = driver.find_element(\n",
    "    By.XPATH,\n",
    "    '//*[@id=\"module_product_detail\"]/div/div/div[2]/div[1]/ul/li[3]/div'\n",
    ").text\n",
    "details.append(storage)\n",
    "\n",
    "memory = driver.find_element(\n",
    "    By.XPATH,\n",
    "    '//*[@id=\"module_product_detail\"]/div/div/div[2]/div[1]/ul/li[4]/div'\n",
    ").text\n",
    "details.append(memory)\n",
    "\n",
    "size = driver.find_element(\n",
    "    By.XPATH,\n",
    "    '//*[@id=\"module_product_detail\"]/div/div/div[2]/div[1]/ul/li[5]/div'\n",
    ").text\n",
    "details.append(size)\n",
    "\n",
    "\n",
    "\n",
    "print(details)\n"
   ]
  },
  {
   "cell_type": "code",
   "execution_count": 12,
   "metadata": {},
   "outputs": [],
   "source": [
    "# time.sleep(5)\n",
    "# driver.quit()"
   ]
  },
  {
   "cell_type": "code",
   "execution_count": null,
   "metadata": {},
   "outputs": [],
   "source": []
  },
  {
   "cell_type": "code",
   "execution_count": null,
   "metadata": {},
   "outputs": [],
   "source": []
  }
 ],
 "metadata": {
  "kernelspec": {
   "display_name": "datascience",
   "language": "python",
   "name": "python3"
  },
  "language_info": {
   "codemirror_mode": {
    "name": "ipython",
    "version": 3
   },
   "file_extension": ".py",
   "mimetype": "text/x-python",
   "name": "python",
   "nbconvert_exporter": "python",
   "pygments_lexer": "ipython3",
   "version": "3.10.11"
  }
 },
 "nbformat": 4,
 "nbformat_minor": 2
}
