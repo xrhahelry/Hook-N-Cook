{
 "cells": [
  {
   "cell_type": "code",
   "execution_count": 3,
   "metadata": {},
   "outputs": [],
   "source": [
    "from selenium import webdriver\n",
    "from selenium.webdriver.chrome.service import Service\n",
    "from selenium.webdriver.common.by import By\n",
    "from selenium.webdriver.support.ui import WebDriverWait\n",
    "from selenium.webdriver.support import expected_conditions as EC\n",
    "import pandas as pd"
   ]
  },
  {
   "cell_type": "code",
   "execution_count": 2,
   "metadata": {},
   "outputs": [],
   "source": [
    "options = webdriver.ChromeOptions()\n",
    "options.add_argument(\"--headless=new\")\n",
    "\n",
    "service = Service(executable_path=\"chromedriver.exe\")\n",
    "driver = webdriver.Chrome(service=service, options=options)"
   ]
  },
  {
   "cell_type": "code",
   "execution_count": 9,
   "metadata": {},
   "outputs": [],
   "source": [
    "urls = pd.read_csv(\"../datasets/laptops_url_dataset.csv\")\n",
    "links = urls[\"Url\"]"
   ]
  },
  {
   "cell_type": "code",
   "execution_count": 11,
   "metadata": {},
   "outputs": [
    {
     "data": {
      "text/plain": [
       "['Computers & Laptops',\n",
       " 'Laptops',\n",
       " 'Macbooks',\n",
       " 'Apple MacBook Air 13-inch M1 256GB - Oliz Store',\n",
       " 'Rs. 139,900',\n",
       " 'Rs. 124,900',\n",
       " '4.8',\n",
       " '68 ratings']"
      ]
     },
     "execution_count": 11,
     "metadata": {},
     "output_type": "execute_result"
    }
   ],
   "source": [
    "driver.get(links[0])\n",
    "details = []\n",
    "# WebDriverWait(driver, 1).until(\n",
    "#     EC.presence_of_element_located(\n",
    "#         (\n",
    "#             By.XPATH,\n",
    "#             '//*[@id=\"J_breadcrumb\"]/li[1]/span/a/span',\n",
    "#         )\n",
    "#     )\n",
    "# )\n",
    "\n",
    "name = driver.find_element(\n",
    "    By.XPATH, '//*[@id=\"module_product_title_1\"]/div/div/span'\n",
    ")\n",
    "details.append(name.text)\n",
    "\n",
    "try:\n",
    "    actual_price = driver.find_element(\n",
    "        By.XPATH, '//*[@id=\"module_product_price_1\"]/div/div/div/span[1]'\n",
    "    )\n",
    "    details.append(actual_price.text)\n",
    "\n",
    "    discount_price = driver.find_element(\n",
    "        By.XPATH, '//*[@id=\"module_product_price_1\"]/div/div/span'\n",
    "    )\n",
    "    details.append(discount_price.text)\n",
    "except:\n",
    "    actual_price = driver.find_element(\n",
    "        By.XPATH, '//*[@id=\"module_product_price_1\"]/div/div/span'\n",
    "    )\n",
    "    details.append(actual_price.text)\n",
    "    details.append(actual_price.text)\n",
    "\n",
    "driver.execute_script(\"window.scrollTo(0, 300)\")\n",
    "try:\n",
    "    WebDriverWait(driver, 1).until(\n",
    "        EC.presence_of_element_located(\n",
    "            (\n",
    "                By.XPATH,\n",
    "                '//*[@id=\"module_product_review\"]/div/div/div[2]/div[1]/div[1]/div[1]/span[1]',\n",
    "            )\n",
    "        )\n",
    "    )\n",
    "    score = driver.find_element(\n",
    "        By.XPATH,\n",
    "        '//*[@id=\"module_product_review\"]/div/div/div[2]/div[1]/div[1]/div[1]/span[1]',\n",
    "    )\n",
    "    details.append(score.text)\n",
    "\n",
    "    reviews = driver.find_element(\n",
    "        By.XPATH,\n",
    "        '//*[@id=\"module_product_review\"]/div/div/div[2]/div[1]/div[1]/div[3]',\n",
    "    )\n",
    "    details.append(reviews.text)\n",
    "except:\n",
    "    details.append(\"0\")\n",
    "    details.append(\"0 reviews\")\n",
    "\n",
    "details"
   ]
  },
  {
   "cell_type": "code",
   "execution_count": null,
   "metadata": {},
   "outputs": [],
   "source": [
    "driver.quit()"
   ]
  }
 ],
 "metadata": {
  "kernelspec": {
   "display_name": "datascience",
   "language": "python",
   "name": "python3"
  },
  "language_info": {
   "codemirror_mode": {
    "name": "ipython",
    "version": 3
   },
   "file_extension": ".py",
   "mimetype": "text/x-python",
   "name": "python",
   "nbconvert_exporter": "python",
   "pygments_lexer": "ipython3",
   "version": "3.12.2"
  }
 },
 "nbformat": 4,
 "nbformat_minor": 2
}
