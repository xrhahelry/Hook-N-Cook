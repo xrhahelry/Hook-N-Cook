{
 "cells": [
  {
   "cell_type": "code",
   "execution_count": 66,
   "metadata": {},
   "outputs": [],
   "source": [
    "from selenium import webdriver\n",
    "from selenium.webdriver.chrome.service import Service\n",
    "from selenium.webdriver.common.by import By\n",
    "import pandas as pd\n",
    "import time\n",
    "import hashlib"
   ]
  },
  {
   "cell_type": "code",
   "execution_count": 67,
   "metadata": {},
   "outputs": [],
   "source": [
    "options = webdriver.ChromeOptions()\n",
    "options.add_argument(\"--headless=new\")\n",
    "\n",
    "service = Service(executable_path=\"chromedriver.exe\")\n",
    "driver = webdriver.Chrome(service=service, options=options)\n",
    "driver.get(\"https://www.daraz.com.np/laptops/\")"
   ]
  },
  {
   "cell_type": "code",
   "execution_count": 68,
   "metadata": {},
   "outputs": [],
   "source": [
    "links = []\n",
    "for i in range(0, 41):\n",
    "    products = driver.find_elements(By.XPATH, '//*[@id=\"id-a-link\"]')\n",
    "    urls = [x.get_property(\"href\") for x in products]\n",
    "    links += urls\n",
    "    driver.execute_script(\"window.scrollTo(0, document.body.scrollHeight - 1500);\")\n",
    "    next = driver.find_element(\n",
    "        By.XPATH,\n",
    "        '//*[@id=\"root\"]/div/div[4]/div[1]/div/div[1]/div[3]/div[2]/div/ul/li[9]/a',\n",
    "    )\n",
    "    next.click()\n",
    "    time.sleep(1)"
   ]
  },
  {
   "cell_type": "code",
   "execution_count": 71,
   "metadata": {},
   "outputs": [],
   "source": [
    "def generate_filename(url):\n",
    "    hashed_url = hashlib.sha256(url.encode()).hexdigest()\n",
    "    truncated_hash = hashed_url[:10]\n",
    "    return truncated_hash \n",
    "\n",
    "files = [generate_filename(url) for url in links]\n",
    "files = [files[i-1] + \"_\" + str(i) + \".csv\" for i in range(1,len(files)+1)]"
   ]
  },
  {
   "cell_type": "code",
   "execution_count": 73,
   "metadata": {},
   "outputs": [],
   "source": [
    "df = pd.DataFrame(list(zip(links, files)), columns=['Url', 'Filename'])\n",
    "df.to_csv('../datasets/laptops_url.csv', index=False)"
   ]
  },
  {
   "cell_type": "code",
   "execution_count": null,
   "metadata": {},
   "outputs": [],
   "source": []
  }
 ],
 "metadata": {
  "kernelspec": {
   "display_name": "datascience",
   "language": "python",
   "name": "python3"
  },
  "language_info": {
   "codemirror_mode": {
    "name": "ipython",
    "version": 3
   },
   "file_extension": ".py",
   "mimetype": "text/x-python",
   "name": "python",
   "nbconvert_exporter": "python",
   "pygments_lexer": "ipython3",
   "version": "3.12.2"
  }
 },
 "nbformat": 4,
 "nbformat_minor": 2
}
