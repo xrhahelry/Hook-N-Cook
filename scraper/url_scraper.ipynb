{
 "cells": [
  {
   "cell_type": "code",
   "execution_count": null,
   "metadata": {},
   "outputs": [],
   "source": [
    "from selenium import webdriver\n",
    "from selenium.webdriver.chrome.service import Service\n",
    "from selenium.webdriver.common.by import By\n",
    "from selenium.webdriver.support.ui import WebDriverWait\n",
    "from selenium.webdriver.support import expected_conditions as EC\n",
    "import pandas as pd\n",
    "import time\n",
    "from datetime import date\n",
    "import re\n",
    "import os"
   ]
  },
  {
   "cell_type": "code",
   "execution_count": null,
   "metadata": {},
   "outputs": [],
   "source": [
    "options = webdriver.ChromeOptions()\n",
    "options.add_argument(\"--headless=new\")\n",
    "\n",
    "service = Service(executable_path=\"chromedriver.exe\")\n",
    "driver = webdriver.Chrome(service=service, options=options)\n",
    "driver.get(\"https://www.daraz.com.np/laptops/\")"
   ]
  },
  {
   "cell_type": "code",
   "execution_count": null,
   "metadata": {},
   "outputs": [],
   "source": [
    "links = []\n",
    "for i in range(0, 20):\n",
    "    products = driver.find_elements(By.XPATH, '//*[@id=\"id-a-link\"]')\n",
    "    urls = [x.get_property(\"href\") for x in products]\n",
    "    links += urls\n",
    "    driver.execute_script(\"window.scrollTo(0, document.body.scrollHeight - 1500);\")\n",
    "    next = driver.find_element(\n",
    "        By.XPATH,\n",
    "        '//*[@id=\"root\"]/div/div[4]/div[1]/div/div[1]/div[3]/div[2]/div/ul/li[9]/a',\n",
    "    )\n",
    "    next.click()\n",
    "    time.sleep(1)"
   ]
  },
  {
   "cell_type": "code",
   "execution_count": null,
   "metadata": {},
   "outputs": [],
   "source": [
    "df = pd.DataFrame(links, columns=['Url'])\n",
    "df.to_csv('../datasets/laptops_url.csv', index=False)\n",
    "link = df[\"Url\"]"
   ]
  },
  {
   "cell_type": "code",
   "execution_count": null,
   "metadata": {},
   "outputs": [],
   "source": [
    "for x in range(0,800):\n",
    "    print(link[x])\n",
    "    driver.get(link[x])\n",
    "    try:\n",
    "        try:\n",
    "            actual_price = driver.find_element(\n",
    "                By.XPATH, '//*[@id=\"module_product_price_1\"]/div/div/div/span[1]'\n",
    "            ).text\n",
    "\n",
    "            discount_price = driver.find_element(\n",
    "                By.XPATH, '//*[@id=\"module_product_price_1\"]/div/div/span'\n",
    "            ).text\n",
    "        except:\n",
    "            actual_price = driver.find_element(\n",
    "                By.XPATH, '//*[@id=\"module_product_price_1\"]/div/div/span'\n",
    "            ).text\n",
    "\n",
    "            discount_price = actual_price\n",
    "\n",
    "        today = date.today()\n",
    "        df = pd.DataFrame([[today, actual_price, discount_price]], columns=[\"Date\", \"Actual Price\", \"Discount Price\"])\n",
    "        df[\"Actual Price\"] = df[\"Actual Price\"].str.replace(\"Rs. \", \"\").str.replace(\",\", \"\")\n",
    "        df[\"Discount Price\"] = df[\"Discount Price\"].str.replace(\"Rs. \", \"\").str.replace(\",\", \"\")\n",
    "        name = str(link[x])\n",
    "        name = re.sub(r'[^a-zA-Z0-9]', '', name)\n",
    "        name = re.sub(r'httpswwwdarazcomnpproducts', '', name)\n",
    "        filename = \"../datasets/prices/\" + name + \".csv\"\n",
    "        df.to_csv(filename, mode='a', header = not os.path.exists(filename), index=False)\n",
    "    except:\n",
    "        print(\"out of stock\")\n",
    "    time.sleep(1)"
   ]
  }
 ],
 "metadata": {
  "kernelspec": {
   "display_name": "datascience",
   "language": "python",
   "name": "python3"
  },
  "language_info": {
   "codemirror_mode": {
    "name": "ipython",
    "version": 3
   },
   "file_extension": ".py",
   "mimetype": "text/x-python",
   "name": "python",
   "nbconvert_exporter": "python",
   "pygments_lexer": "ipython3",
   "version": "3.12.2"
  }
 },
 "nbformat": 4,
 "nbformat_minor": 2
}
