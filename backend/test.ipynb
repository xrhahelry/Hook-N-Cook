{
 "cells": [
  {
   "cell_type": "code",
   "execution_count": 2,
   "metadata": {},
   "outputs": [],
   "source": [
    "import pandas as pd"
   ]
  },
  {
   "cell_type": "code",
   "execution_count": 3,
   "metadata": {},
   "outputs": [],
   "source": [
    "old = pd.read_csv(\"../datasets/urls.csv\")\n",
    "new = pd.read_csv(\"../datasets/urls_new.csv\")"
   ]
  },
  {
   "cell_type": "code",
   "execution_count": 5,
   "metadata": {},
   "outputs": [
    {
     "data": {
      "text/html": [
       "<div>\n",
       "<style scoped>\n",
       "    .dataframe tbody tr th:only-of-type {\n",
       "        vertical-align: middle;\n",
       "    }\n",
       "\n",
       "    .dataframe tbody tr th {\n",
       "        vertical-align: top;\n",
       "    }\n",
       "\n",
       "    .dataframe thead th {\n",
       "        text-align: right;\n",
       "    }\n",
       "</style>\n",
       "<table border=\"1\" class=\"dataframe\">\n",
       "  <thead>\n",
       "    <tr style=\"text-align: right;\">\n",
       "      <th></th>\n",
       "      <th>Url</th>\n",
       "      <th>Filename</th>\n",
       "    </tr>\n",
       "  </thead>\n",
       "  <tbody>\n",
       "    <tr>\n",
       "      <th>0</th>\n",
       "      <td>https://www.daraz.com.np/products/apple-macboo...</td>\n",
       "      <td>5bffcd46c3.csv</td>\n",
       "    </tr>\n",
       "    <tr>\n",
       "      <th>1</th>\n",
       "      <td>https://www.daraz.com.np/products/lenovo-ideap...</td>\n",
       "      <td>24305711ad.csv</td>\n",
       "    </tr>\n",
       "    <tr>\n",
       "      <th>2</th>\n",
       "      <td>https://www.daraz.com.np/products/acer-aspire-...</td>\n",
       "      <td>c796a503a8.csv</td>\n",
       "    </tr>\n",
       "    <tr>\n",
       "      <th>3</th>\n",
       "      <td>https://www.daraz.com.np/products/hp-victus-15...</td>\n",
       "      <td>68848b576a.csv</td>\n",
       "    </tr>\n",
       "    <tr>\n",
       "      <th>4</th>\n",
       "      <td>https://www.daraz.com.np/products/acer-nitro-5...</td>\n",
       "      <td>217f013439.csv</td>\n",
       "    </tr>\n",
       "    <tr>\n",
       "      <th>...</th>\n",
       "      <td>...</td>\n",
       "      <td>...</td>\n",
       "    </tr>\n",
       "    <tr>\n",
       "      <th>1540</th>\n",
       "      <td>https://www.daraz.com.np/products/lenovo-think...</td>\n",
       "      <td>0a9b4fdb34.csv</td>\n",
       "    </tr>\n",
       "    <tr>\n",
       "      <th>1541</th>\n",
       "      <td>https://www.daraz.com.np/products/dell-vostro-...</td>\n",
       "      <td>9876851eb8.csv</td>\n",
       "    </tr>\n",
       "    <tr>\n",
       "      <th>1542</th>\n",
       "      <td>https://www.daraz.com.np/products/hp-envy-x360...</td>\n",
       "      <td>7e97bd7de8.csv</td>\n",
       "    </tr>\n",
       "    <tr>\n",
       "      <th>1543</th>\n",
       "      <td>https://www.daraz.com.np/products/lenovo-v14-r...</td>\n",
       "      <td>5988b995a7.csv</td>\n",
       "    </tr>\n",
       "    <tr>\n",
       "      <th>1544</th>\n",
       "      <td>https://www.daraz.com.np/products/laptop-dell-...</td>\n",
       "      <td>afd94a5f75.csv</td>\n",
       "    </tr>\n",
       "  </tbody>\n",
       "</table>\n",
       "<p>1545 rows × 2 columns</p>\n",
       "</div>"
      ],
      "text/plain": [
       "                                                    Url        Filename\n",
       "0     https://www.daraz.com.np/products/apple-macboo...  5bffcd46c3.csv\n",
       "1     https://www.daraz.com.np/products/lenovo-ideap...  24305711ad.csv\n",
       "2     https://www.daraz.com.np/products/acer-aspire-...  c796a503a8.csv\n",
       "3     https://www.daraz.com.np/products/hp-victus-15...  68848b576a.csv\n",
       "4     https://www.daraz.com.np/products/acer-nitro-5...  217f013439.csv\n",
       "...                                                 ...             ...\n",
       "1540  https://www.daraz.com.np/products/lenovo-think...  0a9b4fdb34.csv\n",
       "1541  https://www.daraz.com.np/products/dell-vostro-...  9876851eb8.csv\n",
       "1542  https://www.daraz.com.np/products/hp-envy-x360...  7e97bd7de8.csv\n",
       "1543  https://www.daraz.com.np/products/lenovo-v14-r...  5988b995a7.csv\n",
       "1544  https://www.daraz.com.np/products/laptop-dell-...  afd94a5f75.csv\n",
       "\n",
       "[1545 rows x 2 columns]"
      ]
     },
     "execution_count": 5,
     "metadata": {},
     "output_type": "execute_result"
    }
   ],
   "source": [
    "temp = pd.merge(old, new, how='inner', on = ['Url', 'Filename'])\n",
    "temp"
   ]
  },
  {
   "cell_type": "code",
   "execution_count": null,
   "metadata": {},
   "outputs": [],
   "source": []
  }
 ],
 "metadata": {
  "kernelspec": {
   "display_name": "hnc",
   "language": "python",
   "name": "python3"
  },
  "language_info": {
   "codemirror_mode": {
    "name": "ipython",
    "version": 3
   },
   "file_extension": ".py",
   "mimetype": "text/x-python",
   "name": "python",
   "nbconvert_exporter": "python",
   "pygments_lexer": "ipython3",
   "version": "3.12.2"
  }
 },
 "nbformat": 4,
 "nbformat_minor": 2
}
