{
 "cells": [
  {
   "cell_type": "code",
   "execution_count": 135,
   "metadata": {},
   "outputs": [],
   "source": [
    "import pandas as pd\n",
    "import seaborn as sns\n",
    "import matplotlib.pyplot as plt"
   ]
  },
  {
   "cell_type": "code",
   "execution_count": 136,
   "metadata": {},
   "outputs": [],
   "source": [
    "raw_data = pd.read_csv(\"../datasets/ProductDetail.csv\")"
   ]
  },
  {
   "cell_type": "code",
   "execution_count": 137,
   "metadata": {},
   "outputs": [],
   "source": [
    "product_id = raw_data[\"Filename\"].str.replace(\".csv\", \"\")\n",
    "raw_name = raw_data[\"Name\"].str.split(\" \").str[0]\n",
    "product_name = raw_data['Name']\n",
    "names = {'Name': raw_name}\n",
    "unclean_brand_name = pd.DataFrame(names)\n",
    "unclean_brand_name['Name'] = unclean_brand_name['Name'].apply(lambda x: x.lower())\n",
    "brand_name = unclean_brand_name['Name']\n",
    "model_name = raw_data[\"Name\"].str.split(\" \").str[1] + \" \" + raw_data[\"Name\"].str.split(\" \").str[2]\n",
    "structured_data = pd.DataFrame(list(zip(product_id, brand_name, product_name)), columns=[\"Product ID\", \"Brand\", \"Product Name\"])"
   ]
  },
  {
   "cell_type": "code",
   "execution_count": 138,
   "metadata": {},
   "outputs": [],
   "source": [
    "temp = structured_data\n",
    "temp['Product Name'] = temp['Product Name'].str.replace(\"-\", \" \")"
   ]
  },
  {
   "cell_type": "code",
   "execution_count": 142,
   "metadata": {},
   "outputs": [
    {
     "name": "stdout",
     "output_type": "stream",
     "text": [
      "dua\n",
      "Dua Screen Pos i5 8GB RAM 256SSD\n",
      "gp66\n",
      "GP66 Leopard 11UG (RTX3070, GDDR6 8GB)\n",
      "gp76\n",
      "GP76 Leopard 11UE (RTX3060, GDDR6 6GB) 17.3\" QHD (2560*1440)\n",
      "great\n",
      "Great Asia laptop TK E171 I5 11TH Gen intel Core Tiger lake 8GB Ram 512GB Rom 5000 MAH 15.6INC Screen\n",
      "ryzen\n",
      "RYZEN 5 15S  EQ2116AU 8GB 512GB SSD 15″\n",
      "ryzen\n",
      "Ryzen 3 4GB128GB Laptop Silver\n",
      "gp66\n",
      "GP66 Leopard 11UE (RTX3060, GDDR6 6GB)\n",
      "gp76\n",
      "GP76 Leopard 11UH (RTX3080, GDDR6 8GB)\n",
      "gp76\n",
      "GP76 Leopard 11UG (RTX3070, GDDR6 8GB)\n",
      "gp66\n",
      "GP66 Leopard 11UH (RTX3080, GDDR6 8GB)\n",
      "gf63\n",
      "GF63 Thin 10SC, 10th Gen. Intel® Core™ i7  10750H 6 Core 12 Threats 2.6GHz ~ 4.5GHz Processor, NVIDIA® GeForce GTX™ 1650 Laptop GPU, 4GB GDDR6, 15.6\" FHD (1920x1080), 60Hz, IPS Level, 8GB 3200 RAM, 512GB NVME SSD\n",
      "nitro\n",
      "Nitro 5 (AN515 58 559W) Intel® Core™ i5 12450H, 15.6\" FHD IPS 144Hz SlimBezel, 8 GB DDR4 3200MHz Memory, 512GB PCIe NVMe SED SSD, NVIDIA® GeForce RTX™ 4060, Win 11 SL, 2 years warranty   (Acer by Mercantile)\n",
      "amd\n",
      "AMD Ryzen™ 7 7840HS, 16\"WQXGA IPS SlimBezel 165Hz DDS, SO16GBV56 Memory, 1024GB PCIe NVMe SED SSD, NVIDIA® GeForce RTX™ 4050, Win 11 SL, 2 years, black colo\n",
      "gf63\n",
      "GF63 Thin 11UC with Intel 11th Generation Core i5 11400H\n"
     ]
    }
   ],
   "source": [
    "Bseries = structured_data['Brand']\n",
    "Pseries = temp['Product Name']\n",
    "known_brands = ['dell', 'asus', 'acer', 'lenovo', 'hp', 'msi', 'apple', 'huawei', 'toshiba',\n",
    "                 'microsoft', 'mi', 'toshiba', 'chiwi', 'chuwi', 'avita', 'xlab', 'honor', 'dynabook', 'razer', 'gateway', 'vaio',\n",
    "                 'nova', 'level51', 'gigabyte']\n",
    "\n",
    "for i in range(len(Bseries)):\n",
    "    b=''\n",
    "    if not(Bseries[i] in known_brands):     \n",
    "        split_list = Pseries[i].split(' ')\n",
    "        for substring in split_list:\n",
    "            string = substring.lower()\n",
    "            if string in known_brands:\n",
    "                b = string\n",
    "            elif string == 'aspire' or string=='predator':\n",
    "                b = 'acer'\n",
    "            elif string == 'macbook':\n",
    "                b = 'apple'\n",
    "            elif string == 'expertbook':\n",
    "                b = 'asus'\n",
    "            elif string == 'nova':\n",
    "                b = 'ripple'\n",
    "            elif string == 'modern' or string == 'summit' or string == 'creator' or string=='delta':#gf__/gp_ also msi\n",
    "                b = 'msi' \n",
    "            elif string == 'original' or string=='pavilion' or string == 'vostro':\n",
    "                b = 'dell'#original inspiron 13\n",
    "\n",
    "        if b == \"\":\n",
    "            print(Bseries[i]) \n",
    "            print(Pseries[i])\n"
   ]
  },
  {
   "cell_type": "code",
   "execution_count": null,
   "metadata": {},
   "outputs": [],
   "source": []
  }
 ],
 "metadata": {
  "kernelspec": {
   "display_name": "env",
   "language": "python",
   "name": "python3"
  },
  "language_info": {
   "codemirror_mode": {
    "name": "ipython",
    "version": 3
   },
   "file_extension": ".py",
   "mimetype": "text/x-python",
   "name": "python",
   "nbconvert_exporter": "python",
   "pygments_lexer": "ipython3",
   "version": "3.10.11"
  }
 },
 "nbformat": 4,
 "nbformat_minor": 2
}
